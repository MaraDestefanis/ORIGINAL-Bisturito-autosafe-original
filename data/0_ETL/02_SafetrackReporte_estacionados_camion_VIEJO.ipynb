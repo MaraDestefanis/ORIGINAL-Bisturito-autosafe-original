{
 "cells": [
  {
   "cell_type": "code",
   "execution_count": 1,
   "metadata": {},
   "outputs": [],
   "source": [
    "#\n",
    "# !pip install pandas as pd"
   ]
  },
  {
   "cell_type": "code",
   "execution_count": 2,
   "metadata": {},
   "outputs": [],
   "source": [
    "import re\n",
    "import numpy as np\n",
    "import pandas as pd\n",
    "import logging\n",
    "import warnings\n",
    "warnings.filterwarnings('ignore')\n",
    "import unicodedata\n",
    "from datetime import datetime\n",
    "import os"
   ]
  },
  {
   "cell_type": "code",
   "execution_count": 3,
   "metadata": {},
   "outputs": [
    {
     "name": "stdout",
     "output_type": "stream",
     "text": [
      "Archivos a procesar:\n",
      " - ../Safetrack\\Reporte de viaje(20241101-20241130).xlsx\n",
      " - ../Safetrack\\Reporte de viaje(20241201-20241231).xlsx\n",
      " - ../Safetrack\\Reporte de viaje(20250101-20250131).xlsx\n",
      " - ../Safetrack\\Reporte de viaje(20250201-20250213).xlsx\n",
      "\n",
      "Meses extraídos:\n",
      " - Noviembre\n",
      " - Diciembre\n",
      " - Enero\n",
      " - Febrero\n"
     ]
    }
   ],
   "source": [
    "# Directorio donde se encuentran los archivos\n",
    "DIRECTORIO_SAFETRACK = \"../Safetrack\"\n",
    "\n",
    "# Patrón de regex para coincidir con los nombres de archivos esperados\n",
    "PATRON_ARCHIVO = r\"Reporte de viaje\\((\\d{8})-(\\d{8})\\)\\.xlsx$\"\n",
    "\n",
    "# Mapeo de números de mes a nombres en español\n",
    "MESES_ES = [\n",
    "    'Enero', 'Febrero', 'Marzo', 'Abril', 'Mayo', 'Junio',\n",
    "    'Julio', 'Agosto', 'Septiembre', 'Octubre', 'Noviembre', 'Diciembre'\n",
    "]\n",
    "\n",
    "def listar_archivos(directorio, patron):\n",
    "    \"\"\"\n",
    "    Lista todos los archivos en el directorio que coinciden con el patrón dado.\n",
    "    \n",
    "    :param directorio: Ruta al directorio donde buscar los archivos.\n",
    "    :param patron: Expresión regular para filtrar los archivos.\n",
    "    :return: Lista de rutas completas a los archivos que coinciden.\n",
    "    \"\"\"\n",
    "    archivos_coincidentes = []\n",
    "    for archivo in os.listdir(directorio):\n",
    "        if re.match(patron, archivo):\n",
    "            ruta_completa = os.path.join(directorio, archivo)\n",
    "            archivos_coincidentes.append(ruta_completa)\n",
    "    return archivos_coincidentes\n",
    "\n",
    "def extraer_mes(nombre_archivo):\n",
    "    \"\"\"\n",
    "    Extrae el mes en español a partir del nombre del archivo.\n",
    "    \n",
    "    :param nombre_archivo: Nombre del archivo.\n",
    "    :return: Nombre del mes en español.\n",
    "    :raises ValueError: Si el formato del archivo no es válido.\n",
    "    \"\"\"\n",
    "    match = re.match(PATRON_ARCHIVO, nombre_archivo)\n",
    "    if not match:\n",
    "        raise ValueError(f\"El archivo '{nombre_archivo}' no coincide con el patrón esperado.\")\n",
    "    \n",
    "    fecha_inicio_str = match.group(1)  # 'YYYYMMDD'\n",
    "    \n",
    "    try:\n",
    "        fecha_inicio = datetime.strptime(fecha_inicio_str, '%Y%m%d')\n",
    "    except ValueError:\n",
    "        raise ValueError(f\"La fecha de inicio en '{nombre_archivo}' no es válida.\")\n",
    "    \n",
    "    nombre_mes = MESES_ES[fecha_inicio.month - 1]\n",
    "    return nombre_mes\n",
    "\n",
    "def extraer_fecha_inicio(nombre_archivo):\n",
    "    \"\"\"\n",
    "    Extrae la fecha de inicio como objeto datetime a partir del nombre del archivo.\n",
    "    \n",
    "    :param nombre_archivo: Nombre del archivo.\n",
    "    :return: Objeto datetime de la fecha de inicio.\n",
    "    \"\"\"\n",
    "    match = re.match(PATRON_ARCHIVO, nombre_archivo)\n",
    "    if not match:\n",
    "        raise ValueError(f\"El archivo '{nombre_archivo}' no coincide con el patrón esperado.\")\n",
    "    \n",
    "    fecha_inicio_str = match.group(1)\n",
    "    fecha_inicio = datetime.strptime(fecha_inicio_str, '%Y%m%d')\n",
    "    return fecha_inicio\n",
    "\n",
    "def generar_listas(directorio):\n",
    "    \"\"\"\n",
    "    Genera las listas de archivos y meses automáticamente.\n",
    "    \n",
    "    :param directorio: Ruta al directorio donde se encuentran los archivos.\n",
    "    :return: Tuple (archivos, meses)\n",
    "    \"\"\"\n",
    "    archivos = listar_archivos(directorio, PATRON_ARCHIVO)\n",
    "    \n",
    "    # Ordenar los archivos por fecha de inicio para mantener un orden lógico\n",
    "    archivos.sort(key=lambda x: extraer_fecha_inicio(os.path.basename(x)))\n",
    "    \n",
    "    meses = [extraer_mes(os.path.basename(archivo)) for archivo in archivos]\n",
    "    \n",
    "    # (Opcional) Eliminar duplicados en 'meses' mientras se mantiene el orden\n",
    "    meses_unicos = list(dict.fromkeys(meses))\n",
    "    \n",
    "    return archivos, meses_unicos\n",
    "\n",
    "# Generar las listas de archivos y meses automáticamente\n",
    "archivos, meses = generar_listas(DIRECTORIO_SAFETRACK)\n",
    "\n",
    "# Inicializar lista_tracks como en tu código original\n",
    "lista_tracks = []\n",
    "\n",
    "# Imprimir las listas resultantes para verificar (opcional)\n",
    "print(\"Archivos a procesar:\")\n",
    "for archivo in archivos:\n",
    "    print(f\" - {archivo}\")\n",
    "\n",
    "print(\"\\nMeses extraídos:\")\n",
    "for mes in meses:\n",
    "    print(f\" - {mes}\")"
   ]
  },
  {
   "cell_type": "markdown",
   "metadata": {},
   "source": [
    "### Agregamos funciones de logging:"
   ]
  },
  {
   "cell_type": "code",
   "execution_count": 4,
   "metadata": {},
   "outputs": [],
   "source": [
    "def log_proceso(df_antes, df_despues, etapa):\n",
    "  eliminados = len(df_antes) - len(df_despues)\n",
    "  porcentaje = (eliminados / len(df_antes)) * 100 if len(df_antes) > 0 else 0\n",
    "  print(f\"\\n=== Etapa: {etapa} ===\")\n",
    "  print(f\"Registros antes: {len(df_antes)}\")\n",
    "  print(f\"Registros después: {len(df_despues)}\")\n",
    "  print(f\"Registros eliminados: {eliminados} ({porcentaje:.2f}%)\")\n",
    "\n",
    "  if eliminados > 0:\n",
    "      registros_eliminados = df_antes[~df_antes.index.isin(df_despues.index)]\n",
    "      # Guardar registros eliminados en un archivo\n",
    "      archivo_eliminados = f\"../Limpia/eliminados_{etapa.lower().replace(' ', '_')}.xlsx\"\n",
    "      registros_eliminados.to_excel(archivo_eliminados, index=False)\n",
    "      print(f\"Registros eliminados guardados en: {archivo_eliminados}\")"
   ]
  },
  {
   "cell_type": "markdown",
   "metadata": {},
   "source": [
    "## Reporte de viaje Safetrack Uruguay -> estacionados_camion.xlsx"
   ]
  },
  {
   "cell_type": "code",
   "execution_count": 5,
   "metadata": {},
   "outputs": [
    {
     "name": "stdout",
     "output_type": "stream",
     "text": [
      "Números de placa únicos para Noviembre: ['AAW 4251' nan 'Número de placa del vehículo' 'Peugeot AVG9758' 'BYD1006'\n",
      " 'CAA 1076' 'Wireless-16956']\n",
      "Números de placa únicos para Diciembre: ['AAW 4251' nan 'Número de placa del vehículo' 'Peugeot AVG9758' 'BYD1006'\n",
      " 'CAA 1076']\n",
      "Números de placa únicos para Enero: ['AAW 4251' nan 'Número de placa del vehículo' 'Peugeot AVG9758' 'BYD1006'\n",
      " 'CAA 1076']\n",
      "Números de placa únicos para Febrero: ['AAW 4251' nan 'Número de placa del vehículo' 'Peugeot AVG9758' 'BYD1006'\n",
      " 'CAA 1076']\n"
     ]
    }
   ],
   "source": [
    "def limpiar_archivo(archivo):\n",
    "    \"\"\"Carga y limpia un archivo Excel.\n",
    "    Args:\n",
    "        archivo (str): Ruta al archivo Excel.\n",
    "    Returns:\n",
    "        pd.DataFrame: DataFrame con los datos limpios.\n",
    "    \"\"\"\n",
    "    # Cargar el archivo\n",
    "    df = pd.read_excel(archivo, engine=\"openpyxl\")\n",
    "\n",
    "    # Eliminar las primeras 3 filas y resetear el índice\n",
    "    df = df.iloc[3:].reset_index(drop=True)\n",
    "\n",
    "    # Renombrar las columnas\n",
    "    df.columns = [\n",
    "        'Indice', 'Numero_de_placa', 'Estado_de_viaje', 'Tiempo_de_Inicio',\n",
    "        'Tiempo_Final', 'Kilometraje_km', 'Duracion', 'Lugar_de_inicio', 'Fin_Localizacion'\n",
    "    ]\n",
    "\n",
    "    # Convertir columnas de tiempo a formato datetime\n",
    "    df['Tiempo_de_Inicio'] = pd.to_datetime(df['Tiempo_de_Inicio'], errors='coerce')\n",
    "    df['Tiempo_Final'] = pd.to_datetime(df['Tiempo_Final'], errors='coerce')\n",
    "\n",
    "    return df\n",
    "\n",
    "\n",
    "estacionados_camion_total = []  # Lista para guardar los datos de todos los meses\n",
    "\n",
    "for i, archivo in enumerate(archivos):\n",
    "    track = limpiar_archivo(archivo)\n",
    "    lista_tracks.append(track)\n",
    "    \n",
    "    # Filtrar registros donde el Estado_de_viaje sea \"Estacionamiento\"\n",
    "    # estacionados_camion = track[track[\"Estado_de_viaje\"] == \"Estacionamiento\"].copy()\n",
    "    estacionados_camion = track.copy()\n",
    "    \n",
    "    # Eliminar columnas innecesarias\n",
    "    estacionados_camion.drop(columns=[\"Fin_Localizacion\", \"Kilometraje_km\"], inplace=True)\n",
    "    \n",
    "    # Asegurarse de que todos los valores en 'Lugar_de_inicio' sean cadenas\n",
    "    estacionados_camion['Lugar_de_inicio'] = estacionados_camion['Lugar_de_inicio'].astype(str)\n",
    "\n",
    "    # Obtener y mostrar los números de placa únicos para el mes correspondiente\n",
    "    valores_unicos = estacionados_camion['Numero_de_placa'].unique()\n",
    "    print(f\"Números de placa únicos para {meses[i]}: {valores_unicos}\")\n",
    "    \n",
    "    # Guardar los datos del mes actual en la lista total\n",
    "    estacionados_camion_total.append(estacionados_camion)\n",
    "\n",
    "# Concatenar los datos de todos los meses\n",
    "estacionados_camion_total = pd.concat(estacionados_camion_total, ignore_index=True)"
   ]
  },
  {
   "cell_type": "code",
   "execution_count": 6,
   "metadata": {},
   "outputs": [
    {
     "name": "stdout",
     "output_type": "stream",
     "text": [
      "<class 'pandas.core.frame.DataFrame'>\n",
      "RangeIndex: 16506 entries, 0 to 16505\n",
      "Data columns (total 7 columns):\n",
      " #   Column            Non-Null Count  Dtype         \n",
      "---  ------            --------------  -----         \n",
      " 0   Indice            16506 non-null  object        \n",
      " 1   Numero_de_placa   16386 non-null  object        \n",
      " 2   Estado_de_viaje   16386 non-null  object        \n",
      " 3   Tiempo_de_Inicio  16370 non-null  datetime64[ns]\n",
      " 4   Tiempo_Final      16370 non-null  datetime64[ns]\n",
      " 5   Duracion          16386 non-null  object        \n",
      " 6   Lugar_de_inicio   16506 non-null  object        \n",
      "dtypes: datetime64[ns](2), object(5)\n",
      "memory usage: 902.8+ KB\n"
     ]
    }
   ],
   "source": [
    "estacionados_camion_total.info()"
   ]
  },
  {
   "cell_type": "markdown",
   "metadata": {},
   "source": [
    "## Normalizacion de patentes y mapeo con los nombres requeridos\n",
    "\n",
    "'CAA 1076' CONVERITDO EN 'BYD1004'\n",
    "\n",
    "'Wireless-16956' CONVERITDO EN 'PartnerABG9758'\n",
    "\n",
    "'AAW 4251' CONVERITDO EN 'PARTNER 4251'"
   ]
  },
  {
   "cell_type": "code",
   "execution_count": 7,
   "metadata": {},
   "outputs": [],
   "source": [
    "# Normalizar las patentes y aplicar el mapeo\n",
    "def normalizar_placas(df):\n",
    "    df['Numero_de_placa'] = df['Numero_de_placa'].str.replace(' ', '').str.upper()\n",
    "    return df\n",
    "\n",
    "def aplicar_mapeo_placas(df, map_placas):\n",
    "    df['Numero_de_placa'] = df['Numero_de_placa'].str.replace('|'.join(map_placas.keys()),\n",
    "                                                        lambda x: map_placas[x], regex=True)\n",
    "    return df\n",
    "\n",
    "estacionados_camion_total = normalizar_placas(estacionados_camion_total)\n",
    "\n",
    "map_placas = {\n",
    "    'CAA 1076': 'BYD1004',\n",
    "    'Wireless-16956': 'PartnerABG9758',\n",
    "    'AAW 4251': 'PARTNER 4251'\n",
    "}\n",
    "\n",
    "def aplicar_mapeo_placas(df, map_placas):\n",
    "    for key, value in map_placas.items():\n",
    "        key_sin_espacios = key.replace(' ', '').upper()\n",
    "        df['Numero_de_placa'] = df['Numero_de_placa'].str.replace(key_sin_espacios, value, case=False)\n",
    "    return df\n",
    "\n",
    "estacionados_camion_total = aplicar_mapeo_placas(estacionados_camion_total, map_placas)\n",
    "\n",
    "# Eliminar filas con valores nulos y resetear el índice\n",
    "# estacionados_camion_total.dropna(subset=['Numero_de_placa', 'Tiempo_de_Inicio', 'Tiempo_Final'], inplace=True)\n",
    "\n",
    "\n",
    "estacionados_camion_total.reset_index(drop=True, inplace=True)"
   ]
  },
  {
   "cell_type": "markdown",
   "metadata": {},
   "source": [
    "#### Revisamos haber renombrado las placas a las que nos pidio Adrian:"
   ]
  },
  {
   "cell_type": "code",
   "execution_count": 8,
   "metadata": {},
   "outputs": [
    {
     "data": {
      "text/plain": [
       "array(['PARTNER 4251', nan, 'NÚMERODEPLACADELVEHÍCULO', 'PEUGEOTAVG9758',\n",
       "       'BYD1006', 'BYD1004', 'PartnerABG9758'], dtype=object)"
      ]
     },
     "execution_count": 8,
     "metadata": {},
     "output_type": "execute_result"
    }
   ],
   "source": [
    "# Verificar los cambios\n",
    "estacionados_camion_total['Numero_de_placa'].unique()"
   ]
  },
  {
   "cell_type": "markdown",
   "metadata": {},
   "source": [
    "## Separar las Coordenadas camion_x camion_y"
   ]
  },
  {
   "cell_type": "code",
   "execution_count": 9,
   "metadata": {},
   "outputs": [
    {
     "name": "stdout",
     "output_type": "stream",
     "text": [
      "\n",
      "=== Iniciando Procesamiento de Coordenadas ===\n"
     ]
    }
   ],
   "source": [
    "# AGREGADO PARA LOGGING\n",
    "print(\"\\n=== Iniciando Procesamiento de Coordenadas ===\")\n",
    "estacionados_antes_coords = estacionados_camion_total.copy()\n",
    "\n",
    "# Función para convertir coordenadas\n",
    "def convert_coord(coord):\n",
    "    if coord is None:\n",
    "        return None\n",
    "    coord = coord.strip()\n",
    "    if coord[-1] in ['N', 'E']:\n",
    "        return float(coord[:-1])  # Devuelve el valor positivo\n",
    "    elif coord[-1] in ['S', 'W']:\n",
    "        return -float(coord[:-1])  # Devuelve el valor negativo\n",
    "    else:\n",
    "        try:\n",
    "            return float(coord)  # Intenta convertir a float\n",
    "        except ValueError:\n",
    "            return None  # Retorna None si no se puede convertir\n",
    "\n",
    "# Función para separar las coordenadas\n",
    "def split_coords(lugar):\n",
    "    try:\n",
    "        lat, lon = lugar.split(',')\n",
    "        return lat.strip(), lon.strip()\n",
    "    except ValueError:\n",
    "        return None, None\n",
    "\n",
    "# Crear nuevas columnas 'latitud' y 'longitud'\n",
    "estacionados_camion_total[['longitud', 'latitud']] = estacionados_camion_total['Lugar_de_inicio'].apply(lambda x: pd.Series(split_coords(x)))\n",
    "\n",
    "# Convertir las coordenadas de 'latitud' y 'longitud' a numéricas\n",
    "estacionados_camion_total['latitud'] = estacionados_camion_total['latitud'].apply(convert_coord)\n",
    "estacionados_camion_total['longitud'] = estacionados_camion_total['longitud'].apply(convert_coord)\n",
    "\n",
    "\n",
    "# Renombrar columnas de coordenadas\n",
    "estacionados_camion_total.rename(columns={'latitud': 'camion_y', 'longitud': 'camion_x'}, inplace=True)\n"
   ]
  },
  {
   "cell_type": "markdown",
   "metadata": {},
   "source": [
    "### Procesamos duracion"
   ]
  },
  {
   "cell_type": "code",
   "execution_count": 10,
   "metadata": {},
   "outputs": [
    {
     "name": "stdout",
     "output_type": "stream",
     "text": [
      "\n",
      "=== Iniciando Procesamiento de Duración ===\n",
      "\n",
      "=== Etapa: Coordenadas ===\n",
      "Registros antes: 16506\n",
      "Registros después: 16506\n",
      "Registros eliminados: 0 (0.00%)\n"
     ]
    }
   ],
   "source": [
    "# Antes de convertir duración\n",
    "print(\"\\n=== Iniciando Procesamiento de Duración ===\")\n",
    "estacionados_antes_duracion = estacionados_camion_total.copy()\n",
    "\n",
    "# Función para convertir \"XhYMinutosZs\" a formato decimal\n",
    "def convertir_a_decimal(duracion):\n",
    "  try:\n",
    "      duracion = str(duracion)\n",
    "      # Manejar formato con días\n",
    "      if 'd' in duracion:\n",
    "          dias_parte = duracion.split('d')[0]\n",
    "          resto = duracion.split('d')[1]\n",
    "          dias = int(dias_parte)\n",
    "          minutos_por_dias = dias * 24 * 60\n",
    "      else:\n",
    "          minutos_por_dias = 0\n",
    "          resto = duracion\n",
    "\n",
    "      # Manejar horas y minutos\n",
    "      match = re.match(r'(?:(\\d+)h)?(?:(\\d+)Minutos)?(?:(\\d+)s)?', resto)\n",
    "      if match:\n",
    "          horas = int(match.group(1)) if match.group(1) else 0\n",
    "          minutos = int(match.group(2)) if match.group(2) else 0\n",
    "          segundos = int(match.group(3)) if match.group(3) else 0\n",
    "\n",
    "          total_minutos = minutos_por_dias + (horas * 60) + minutos + (segundos / 60)\n",
    "          return round(total_minutos, 2)\n",
    "  except:\n",
    "      return None\n",
    "# Aplicar la función a la columna 'Duracion'\n",
    "estacionados_camion_total['Duracion'] = estacionados_camion_total['Duracion'].apply(convertir_a_decimal)\n",
    "\n",
    "# Registramos el proceso\n",
    "log_proceso(estacionados_antes_coords, estacionados_camion_total, \"Coordenadas\")"
   ]
  },
  {
   "cell_type": "code",
   "execution_count": 11,
   "metadata": {},
   "outputs": [
    {
     "name": "stdout",
     "output_type": "stream",
     "text": [
      "\n",
      "=== Etapa: Duración ===\n",
      "Registros antes: 16506\n",
      "Registros después: 16506\n",
      "Registros eliminados: 0 (0.00%)\n"
     ]
    }
   ],
   "source": [
    "# Después de procesar duración y eliminar nulos\n",
    "log_proceso(estacionados_antes_duracion, estacionados_camion_total, \"Duración\")"
   ]
  },
  {
   "cell_type": "markdown",
   "metadata": {},
   "source": [
    "## Filtro rango por hora, sacamos camiones mas de 18 a 7 am"
   ]
  },
  {
   "cell_type": "code",
   "execution_count": 12,
   "metadata": {},
   "outputs": [
    {
     "name": "stdout",
     "output_type": "stream",
     "text": [
      "\n",
      "=== Iniciando Filtrado por Horario ===\n",
      "Registros previos al tratamiento: 16506\n",
      "Registros después del tratamiento: 15495\n",
      "\n",
      "=== Etapa: Filtrado_Horario ===\n",
      "Registros antes: 16506\n",
      "Registros después: 15495\n",
      "Registros eliminados: 1011 (6.13%)\n",
      "Registros eliminados guardados en: ../Limpia/eliminados_filtrado_horario.xlsx\n"
     ]
    }
   ],
   "source": [
    "print(\"\\n=== Iniciando Filtrado por Horario ===\")\n",
    "estacionados_antes_horario = estacionados_camion_total.copy()\n",
    "\n",
    "\n",
    "# Contar registros previos al tratamiento\n",
    "registros_previos = len(estacionados_camion_total)\n",
    "\n",
    "# Filtrar los registros donde la hora esté entre las 18:00 y las 07:00\n",
    "estacionados_camion_total = estacionados_camion_total[~((estacionados_camion_total['Tiempo_de_Inicio'].dt.hour >= 18) | \n",
    "                                                     (estacionados_camion_total['Tiempo_de_Inicio'].dt.hour < 7))]\n",
    "# Contar registros después del tratamiento\n",
    "registros_post_tratamiento = len(estacionados_camion_total)\n",
    "\n",
    "# Imprimir los resultados\n",
    "print(f\"Registros previos al tratamiento: {registros_previos}\")\n",
    "print(f\"Registros después del tratamiento: {registros_post_tratamiento}\")\n",
    "\t\n",
    " \n",
    " # Logging del filtrado por hora\n",
    "log_proceso(estacionados_antes_horario, estacionados_camion_total, \"Filtrado_Horario\")\t"
   ]
  },
  {
   "cell_type": "code",
   "execution_count": 13,
   "metadata": {},
   "outputs": [
    {
     "name": "stdout",
     "output_type": "stream",
     "text": [
      "['PARTNER 4251' nan 'NÚMERODEPLACADELVEHÍCULO' 'PEUGEOTAVG9758' 'BYD1006'\n",
      " 'BYD1004' 'PartnerABG9758']\n"
     ]
    }
   ],
   "source": [
    "valores_unicos = estacionados_camion_total['Numero_de_placa'].unique()\n",
    "# Imprimir los valores únicos\n",
    "print(valores_unicos)"
   ]
  },
  {
   "cell_type": "code",
   "execution_count": 14,
   "metadata": {},
   "outputs": [
    {
     "name": "stdout",
     "output_type": "stream",
     "text": [
      "\n",
      "=== Resumen Final del Procesamiento ===\n",
      "Registros iniciales totales: 16506\n",
      "Registros finales: 15495\n",
      "Registros eliminados totales: 1011\n"
     ]
    }
   ],
   "source": [
    "# Antes de crear los dos datasets finales\n",
    "print(\"\\n=== Resumen Final del Procesamiento ===\")\n",
    "print(f\"Registros iniciales totales: {sum(len(df) for df in lista_tracks)}\")\n",
    "print(f\"Registros finales: {len(estacionados_camion_total)}\")\n",
    "print(f\"Registros eliminados totales: {sum(len(df) for df in lista_tracks) - len(estacionados_camion_total)}\")"
   ]
  },
  {
   "cell_type": "markdown",
   "metadata": {},
   "source": [
    "### Antes de guardar, filtramos ESTACIONAMIENTO\n"
   ]
  },
  {
   "cell_type": "code",
   "execution_count": 15,
   "metadata": {},
   "outputs": [],
   "source": [
    "# Antes de guardar, crear dos datasets\n",
    "estacionados_camion = estacionados_camion_total[\n",
    "    estacionados_camion_total[\"Estado_de_viaje\"].isin([\"Estacionamiento\"])\n",
    "].copy()\n",
    "\n",
    "# Guardar ambos archivos\n",
    "estacionados_camion.to_excel(\"../Limpia/estacionados_camion.xlsx\", index=False)"
   ]
  },
  {
   "cell_type": "code",
   "execution_count": 16,
   "metadata": {},
   "outputs": [
    {
     "name": "stdout",
     "output_type": "stream",
     "text": [
      "<class 'pandas.core.frame.DataFrame'>\n",
      "Index: 7680 entries, 1 to 16496\n",
      "Data columns (total 9 columns):\n",
      " #   Column            Non-Null Count  Dtype         \n",
      "---  ------            --------------  -----         \n",
      " 0   Indice            7680 non-null   object        \n",
      " 1   Numero_de_placa   7680 non-null   object        \n",
      " 2   Estado_de_viaje   7680 non-null   object        \n",
      " 3   Tiempo_de_Inicio  7680 non-null   datetime64[ns]\n",
      " 4   Tiempo_Final      7680 non-null   datetime64[ns]\n",
      " 5   Duracion          7680 non-null   float64       \n",
      " 6   Lugar_de_inicio   7680 non-null   object        \n",
      " 7   camion_x          7680 non-null   float64       \n",
      " 8   camion_y          7680 non-null   float64       \n",
      "dtypes: datetime64[ns](2), float64(3), object(4)\n",
      "memory usage: 600.0+ KB\n"
     ]
    },
    {
     "data": {
      "text/html": [
       "<div>\n",
       "<style scoped>\n",
       "    .dataframe tbody tr th:only-of-type {\n",
       "        vertical-align: middle;\n",
       "    }\n",
       "\n",
       "    .dataframe tbody tr th {\n",
       "        vertical-align: top;\n",
       "    }\n",
       "\n",
       "    .dataframe thead th {\n",
       "        text-align: right;\n",
       "    }\n",
       "</style>\n",
       "<table border=\"1\" class=\"dataframe\">\n",
       "  <thead>\n",
       "    <tr style=\"text-align: right;\">\n",
       "      <th></th>\n",
       "      <th>Indice</th>\n",
       "      <th>Numero_de_placa</th>\n",
       "      <th>Estado_de_viaje</th>\n",
       "      <th>Tiempo_de_Inicio</th>\n",
       "      <th>Tiempo_Final</th>\n",
       "      <th>Duracion</th>\n",
       "      <th>Lugar_de_inicio</th>\n",
       "      <th>camion_x</th>\n",
       "      <th>camion_y</th>\n",
       "    </tr>\n",
       "  </thead>\n",
       "  <tbody>\n",
       "    <tr>\n",
       "      <th>16494</th>\n",
       "      <td>420</td>\n",
       "      <td>BYD1004</td>\n",
       "      <td>Estacionamiento</td>\n",
       "      <td>2025-02-13 08:46:02</td>\n",
       "      <td>2025-02-13 09:53:53</td>\n",
       "      <td>67.85</td>\n",
       "      <td>34.778314S,55.862922W</td>\n",
       "      <td>-34.778314</td>\n",
       "      <td>-55.862922</td>\n",
       "    </tr>\n",
       "    <tr>\n",
       "      <th>16496</th>\n",
       "      <td>422</td>\n",
       "      <td>BYD1004</td>\n",
       "      <td>Estacionamiento</td>\n",
       "      <td>2025-02-13 09:55:20</td>\n",
       "      <td>2025-02-13 10:17:38</td>\n",
       "      <td>22.30</td>\n",
       "      <td>34.768943S,55.862357W</td>\n",
       "      <td>-34.768943</td>\n",
       "      <td>-55.862357</td>\n",
       "    </tr>\n",
       "  </tbody>\n",
       "</table>\n",
       "</div>"
      ],
      "text/plain": [
       "      Indice Numero_de_placa  Estado_de_viaje    Tiempo_de_Inicio  \\\n",
       "16494    420         BYD1004  Estacionamiento 2025-02-13 08:46:02   \n",
       "16496    422         BYD1004  Estacionamiento 2025-02-13 09:55:20   \n",
       "\n",
       "             Tiempo_Final  Duracion        Lugar_de_inicio   camion_x  \\\n",
       "16494 2025-02-13 09:53:53     67.85  34.778314S,55.862922W -34.778314   \n",
       "16496 2025-02-13 10:17:38     22.30  34.768943S,55.862357W -34.768943   \n",
       "\n",
       "        camion_y  \n",
       "16494 -55.862922  \n",
       "16496 -55.862357  "
      ]
     },
     "execution_count": 16,
     "metadata": {},
     "output_type": "execute_result"
    }
   ],
   "source": [
    "estacionados_camion.info()\n",
    "estacionados_camion.tail(2)\n",
    "# estacionados_camion.head(2)"
   ]
  }
 ],
 "metadata": {
  "kernelspec": {
   "display_name": "Python 3",
   "language": "python",
   "name": "python3"
  },
  "language_info": {
   "codemirror_mode": {
    "name": "ipython",
    "version": 3
   },
   "file_extension": ".py",
   "mimetype": "text/x-python",
   "name": "python",
   "nbconvert_exporter": "python",
   "pygments_lexer": "ipython3",
   "version": "3.10.11"
  }
 },
 "nbformat": 4,
 "nbformat_minor": 2
}
