{
 "cells": [
  {
   "cell_type": "code",
   "execution_count": 1,
   "id": "09ba70fa-99b9-4696-8b49-bea439cef9fa",
   "metadata": {},
   "outputs": [],
   "source": [
    "# Preliminares \n",
    "import re\n",
    "import pandas as pd"
   ]
  },
  {
   "cell_type": "code",
   "execution_count": 2,
   "id": "2182c1e3-4845-4bb6-9605-1fd90ed6f1fe",
   "metadata": {},
   "outputs": [],
   "source": [
    "# Datos \n",
    "ubicaciones_clientes = pd.read_excel(\"../Limpia/Ubicaciones_direcciones.xlsx\")\n",
    "tareas = pd.read_excel(\"../Limpia/Tareas-limpio.xlsx\")"
   ]
  },
  {
   "cell_type": "code",
   "execution_count": 3,
   "id": "12e2663d",
   "metadata": {},
   "outputs": [
    {
     "name": "stdout",
     "output_type": "stream",
     "text": [
      "<class 'pandas.core.frame.DataFrame'>\n",
      "RangeIndex: 1286 entries, 0 to 1285\n",
      "Data columns (total 2 columns):\n",
      " #   Column    Non-Null Count  Dtype \n",
      "---  ------    --------------  ----- \n",
      " 0   CODIGO    1286 non-null   int64 \n",
      " 1   PROYECTO  1286 non-null   object\n",
      "dtypes: int64(1), object(1)\n",
      "memory usage: 20.2+ KB\n"
     ]
    },
    {
     "data": {
      "text/html": [
       "<div>\n",
       "<style scoped>\n",
       "    .dataframe tbody tr th:only-of-type {\n",
       "        vertical-align: middle;\n",
       "    }\n",
       "\n",
       "    .dataframe tbody tr th {\n",
       "        vertical-align: top;\n",
       "    }\n",
       "\n",
       "    .dataframe thead th {\n",
       "        text-align: right;\n",
       "    }\n",
       "</style>\n",
       "<table border=\"1\" class=\"dataframe\">\n",
       "  <thead>\n",
       "    <tr style=\"text-align: right;\">\n",
       "      <th></th>\n",
       "      <th>CODIGO</th>\n",
       "      <th>PROYECTO</th>\n",
       "    </tr>\n",
       "  </thead>\n",
       "  <tbody>\n",
       "    <tr>\n",
       "      <th>1245</th>\n",
       "      <td>12901</td>\n",
       "      <td>💲Creditos Dario</td>\n",
       "    </tr>\n",
       "    <tr>\n",
       "      <th>1129</th>\n",
       "      <td>82169</td>\n",
       "      <td>💲Creditos Hugo</td>\n",
       "    </tr>\n",
       "  </tbody>\n",
       "</table>\n",
       "</div>"
      ],
      "text/plain": [
       "      CODIGO         PROYECTO\n",
       "1245   12901  💲Creditos Dario\n",
       "1129   82169   💲Creditos Hugo"
      ]
     },
     "execution_count": 3,
     "metadata": {},
     "output_type": "execute_result"
    }
   ],
   "source": [
    "tareas.info()\n",
    "tareas.sample(2)"
   ]
  },
  {
   "cell_type": "code",
   "execution_count": 4,
   "id": "0f90fbe6-08fd-4ff7-b466-73da37197fe1",
   "metadata": {},
   "outputs": [
    {
     "name": "stdout",
     "output_type": "stream",
     "text": [
      "<class 'pandas.core.frame.DataFrame'>\n",
      "RangeIndex: 512 entries, 0 to 511\n",
      "Data columns (total 6 columns):\n",
      " #   Column     Non-Null Count  Dtype         \n",
      "---  ------     --------------  -----         \n",
      " 0   CODIGO     512 non-null    int64         \n",
      " 1   NOMCLI     512 non-null    object        \n",
      " 2   LATITUD    512 non-null    float64       \n",
      " 3   UBICACIÓN  512 non-null    object        \n",
      " 4   LONGITUD   512 non-null    float64       \n",
      " 5   FECHA      512 non-null    datetime64[ns]\n",
      "dtypes: datetime64[ns](1), float64(2), int64(1), object(2)\n",
      "memory usage: 24.1+ KB\n"
     ]
    }
   ],
   "source": [
    "# check \n",
    "ubicaciones_clientes.info()"
   ]
  },
  {
   "cell_type": "code",
   "execution_count": 5,
   "id": "716df374-df84-4c46-89f9-486f78e3f032",
   "metadata": {},
   "outputs": [
    {
     "name": "stdout",
     "output_type": "stream",
     "text": [
      "<class 'pandas.core.frame.DataFrame'>\n",
      "RangeIndex: 512 entries, 0 to 511\n",
      "Data columns (total 5 columns):\n",
      " #   Column     Non-Null Count  Dtype  \n",
      "---  ------     --------------  -----  \n",
      " 0   CODIGO     512 non-null    int64  \n",
      " 1   NOMCLI     512 non-null    object \n",
      " 2   UBICACIÓN  512 non-null    object \n",
      " 3   LATITUD    512 non-null    float64\n",
      " 4   LONGITUD   512 non-null    float64\n",
      "dtypes: float64(2), int64(1), object(2)\n",
      "memory usage: 20.1+ KB\n"
     ]
    }
   ],
   "source": [
    "ubicaciones_clientes =ubicaciones_clientes[[\"CODIGO\",\"NOMCLI\",\"UBICACIÓN\",\"LATITUD\",\"LONGITUD\"]]\n",
    "ubicaciones_clientes.info()"
   ]
  },
  {
   "cell_type": "code",
   "execution_count": 6,
   "id": "4e2fd790-a9c9-41ab-b9ba-c68c04198022",
   "metadata": {},
   "outputs": [
    {
     "name": "stdout",
     "output_type": "stream",
     "text": [
      "<class 'pandas.core.frame.DataFrame'>\n",
      "RangeIndex: 1286 entries, 0 to 1285\n",
      "Data columns (total 2 columns):\n",
      " #   Column    Non-Null Count  Dtype \n",
      "---  ------    --------------  ----- \n",
      " 0   CODIGO    1286 non-null   int64 \n",
      " 1   PROYECTO  1286 non-null   object\n",
      "dtypes: int64(1), object(1)\n",
      "memory usage: 20.2+ KB\n"
     ]
    }
   ],
   "source": [
    "tareas.info()"
   ]
  },
  {
   "cell_type": "code",
   "execution_count": 7,
   "id": "a77fafa3-55fa-47ef-984d-0bf8cbefced1",
   "metadata": {},
   "outputs": [],
   "source": [
    "Tabla_Proyectos_Clientes = pd.merge(tareas, ubicaciones_clientes, on=(\"CODIGO\"), how=\"left\")"
   ]
  },
  {
   "cell_type": "code",
   "execution_count": 8,
   "id": "984e06a1-309c-40c3-b979-b897a3790a6d",
   "metadata": {},
   "outputs": [
    {
     "name": "stdout",
     "output_type": "stream",
     "text": [
      "<class 'pandas.core.frame.DataFrame'>\n",
      "RangeIndex: 1289 entries, 0 to 1288\n",
      "Data columns (total 6 columns):\n",
      " #   Column     Non-Null Count  Dtype  \n",
      "---  ------     --------------  -----  \n",
      " 0   CODIGO     1289 non-null   int64  \n",
      " 1   PROYECTO   1289 non-null   object \n",
      " 2   NOMCLI     1139 non-null   object \n",
      " 3   UBICACIÓN  1139 non-null   object \n",
      " 4   LATITUD    1139 non-null   float64\n",
      " 5   LONGITUD   1139 non-null   float64\n",
      "dtypes: float64(2), int64(1), object(3)\n",
      "memory usage: 60.5+ KB\n"
     ]
    }
   ],
   "source": [
    "\n",
    "Tabla_Proyectos_Clientes.info()"
   ]
  },
  {
   "cell_type": "code",
   "execution_count": 9,
   "id": "3b8bb75c-d7c0-459b-a042-cf7e4c9663f0",
   "metadata": {},
   "outputs": [
    {
     "name": "stdout",
     "output_type": "stream",
     "text": [
      "<class 'pandas.core.frame.DataFrame'>\n",
      "RangeIndex: 1289 entries, 0 to 1288\n",
      "Data columns (total 6 columns):\n",
      " #   Column     Non-Null Count  Dtype  \n",
      "---  ------     --------------  -----  \n",
      " 0   CODIGO     1289 non-null   int64  \n",
      " 1   PROYECTO   1289 non-null   object \n",
      " 2   NOMCLI     1139 non-null   object \n",
      " 3   UBICACIÓN  1139 non-null   object \n",
      " 4   LATITUD    1139 non-null   float64\n",
      " 5   LONGITUD   1139 non-null   float64\n",
      "dtypes: float64(2), int64(1), object(3)\n",
      "memory usage: 60.5+ KB\n"
     ]
    }
   ],
   "source": [
    "# Tabla_Proyectos_Clientes = Tabla_Proyectos_Clientes[[\"CODIGO\", \"NOMCLI\", \"PROYECTO\", \"UBICACIÓN\"]]\n",
    "Tabla_Proyectos_Clientes.info()"
   ]
  },
  {
   "cell_type": "code",
   "execution_count": 10,
   "id": "61282310-9acb-474b-98d7-15a24fc8b9ed",
   "metadata": {},
   "outputs": [
    {
     "data": {
      "text/html": [
       "<div>\n",
       "<style scoped>\n",
       "    .dataframe tbody tr th:only-of-type {\n",
       "        vertical-align: middle;\n",
       "    }\n",
       "\n",
       "    .dataframe tbody tr th {\n",
       "        vertical-align: top;\n",
       "    }\n",
       "\n",
       "    .dataframe thead th {\n",
       "        text-align: right;\n",
       "    }\n",
       "</style>\n",
       "<table border=\"1\" class=\"dataframe\">\n",
       "  <thead>\n",
       "    <tr style=\"text-align: right;\">\n",
       "      <th></th>\n",
       "      <th>CODIGO</th>\n",
       "      <th>PROYECTO</th>\n",
       "      <th>NOMCLI</th>\n",
       "      <th>UBICACIÓN</th>\n",
       "      <th>LATITUD</th>\n",
       "      <th>LONGITUD</th>\n",
       "    </tr>\n",
       "  </thead>\n",
       "  <tbody>\n",
       "    <tr>\n",
       "      <th>0</th>\n",
       "      <td>11975</td>\n",
       "      <td>Ruta Dario Lunes</td>\n",
       "      <td>DUNAS,PARQUE DEL PLATA NORTE</td>\n",
       "      <td>Marcador 134\\nlat/lng: (-34.74643,-55.71194)\\n...</td>\n",
       "      <td>-34.746430</td>\n",
       "      <td>-55.711940</td>\n",
       "    </tr>\n",
       "    <tr>\n",
       "      <th>1</th>\n",
       "      <td>41938</td>\n",
       "      <td>Ruta Dario Lunes</td>\n",
       "      <td>ROSMARI</td>\n",
       "      <td>Marcador 96\\nlat/lng: (-34.7458,-55.75967)\\n[h...</td>\n",
       "      <td>-34.745800</td>\n",
       "      <td>-55.759670</td>\n",
       "    </tr>\n",
       "    <tr>\n",
       "      <th>2</th>\n",
       "      <td>41939</td>\n",
       "      <td>Ruta Dario Lunes</td>\n",
       "      <td>LORENA</td>\n",
       "      <td>Marcador 101\\nlat/lng: (-34.74895,-55.76612)\\n...</td>\n",
       "      <td>-34.748950</td>\n",
       "      <td>-55.766120</td>\n",
       "    </tr>\n",
       "    <tr>\n",
       "      <th>3</th>\n",
       "      <td>41971</td>\n",
       "      <td>Ruta Dario Lunes</td>\n",
       "      <td>PIZZERIA EL PAPO</td>\n",
       "      <td>Marcador 22\\nlat/lng: -34.74857,-55.76248\\n[ht...</td>\n",
       "      <td>-34.748570</td>\n",
       "      <td>-55.762480</td>\n",
       "    </tr>\n",
       "    <tr>\n",
       "      <th>4</th>\n",
       "      <td>82191</td>\n",
       "      <td>Ruta Dario Lunes</td>\n",
       "      <td>EL GALPON</td>\n",
       "      <td>http://maps.google.com/?q=-34.7569682,-55.7669689</td>\n",
       "      <td>-34.756968</td>\n",
       "      <td>-55.766969</td>\n",
       "    </tr>\n",
       "  </tbody>\n",
       "</table>\n",
       "</div>"
      ],
      "text/plain": [
       "   CODIGO          PROYECTO                        NOMCLI  \\\n",
       "0   11975  Ruta Dario Lunes  DUNAS,PARQUE DEL PLATA NORTE   \n",
       "1   41938  Ruta Dario Lunes                       ROSMARI   \n",
       "2   41939  Ruta Dario Lunes                        LORENA   \n",
       "3   41971  Ruta Dario Lunes              PIZZERIA EL PAPO   \n",
       "4   82191  Ruta Dario Lunes                     EL GALPON   \n",
       "\n",
       "                                           UBICACIÓN    LATITUD   LONGITUD  \n",
       "0  Marcador 134\\nlat/lng: (-34.74643,-55.71194)\\n... -34.746430 -55.711940  \n",
       "1  Marcador 96\\nlat/lng: (-34.7458,-55.75967)\\n[h... -34.745800 -55.759670  \n",
       "2  Marcador 101\\nlat/lng: (-34.74895,-55.76612)\\n... -34.748950 -55.766120  \n",
       "3  Marcador 22\\nlat/lng: -34.74857,-55.76248\\n[ht... -34.748570 -55.762480  \n",
       "4  http://maps.google.com/?q=-34.7569682,-55.7669689 -34.756968 -55.766969  "
      ]
     },
     "execution_count": 10,
     "metadata": {},
     "output_type": "execute_result"
    }
   ],
   "source": [
    "Tabla_Proyectos_Clientes.head(5)"
   ]
  },
  {
   "cell_type": "code",
   "execution_count": 11,
   "id": "b1351c7b-d1ee-4fca-9403-fc2ccaf1ad9d",
   "metadata": {},
   "outputs": [
    {
     "name": "stdout",
     "output_type": "stream",
     "text": [
      "(1139, 6)\n"
     ]
    }
   ],
   "source": [
    "# Eliminar filas donde NOMCLI tenga valores nulos\n",
    "Tabla_Proyectos_Clientes = Tabla_Proyectos_Clientes.dropna(subset=[\"NOMCLI\"])\n",
    "\n",
    "# Verificar el número de filas restantes\n",
    "print(Tabla_Proyectos_Clientes.shape)"
   ]
  },
  {
   "cell_type": "code",
   "execution_count": 12,
   "id": "cf82c189",
   "metadata": {},
   "outputs": [
    {
     "data": {
      "text/html": [
       "<div>\n",
       "<style scoped>\n",
       "    .dataframe tbody tr th:only-of-type {\n",
       "        vertical-align: middle;\n",
       "    }\n",
       "\n",
       "    .dataframe tbody tr th {\n",
       "        vertical-align: top;\n",
       "    }\n",
       "\n",
       "    .dataframe thead th {\n",
       "        text-align: right;\n",
       "    }\n",
       "</style>\n",
       "<table border=\"1\" class=\"dataframe\">\n",
       "  <thead>\n",
       "    <tr style=\"text-align: right;\">\n",
       "      <th></th>\n",
       "      <th>CODIGO</th>\n",
       "      <th>PROYECTO</th>\n",
       "      <th>NOMCLI</th>\n",
       "      <th>UBICACIÓN</th>\n",
       "      <th>LATITUD</th>\n",
       "      <th>LONGITUD</th>\n",
       "    </tr>\n",
       "  </thead>\n",
       "  <tbody>\n",
       "    <tr>\n",
       "      <th>0</th>\n",
       "      <td>11975</td>\n",
       "      <td>Ruta Dario Lunes</td>\n",
       "      <td>DUNAS,PARQUE DEL PLATA NORTE</td>\n",
       "      <td>Marcador 134\\nlat/lng: (-34.74643,-55.71194)\\n...</td>\n",
       "      <td>-34.746430</td>\n",
       "      <td>-55.711940</td>\n",
       "    </tr>\n",
       "    <tr>\n",
       "      <th>1</th>\n",
       "      <td>41938</td>\n",
       "      <td>Ruta Dario Lunes</td>\n",
       "      <td>ROSMARI</td>\n",
       "      <td>Marcador 96\\nlat/lng: (-34.7458,-55.75967)\\n[h...</td>\n",
       "      <td>-34.745800</td>\n",
       "      <td>-55.759670</td>\n",
       "    </tr>\n",
       "    <tr>\n",
       "      <th>2</th>\n",
       "      <td>41939</td>\n",
       "      <td>Ruta Dario Lunes</td>\n",
       "      <td>LORENA</td>\n",
       "      <td>Marcador 101\\nlat/lng: (-34.74895,-55.76612)\\n...</td>\n",
       "      <td>-34.748950</td>\n",
       "      <td>-55.766120</td>\n",
       "    </tr>\n",
       "    <tr>\n",
       "      <th>3</th>\n",
       "      <td>41971</td>\n",
       "      <td>Ruta Dario Lunes</td>\n",
       "      <td>PIZZERIA EL PAPO</td>\n",
       "      <td>Marcador 22\\nlat/lng: -34.74857,-55.76248\\n[ht...</td>\n",
       "      <td>-34.748570</td>\n",
       "      <td>-55.762480</td>\n",
       "    </tr>\n",
       "    <tr>\n",
       "      <th>4</th>\n",
       "      <td>82191</td>\n",
       "      <td>Ruta Dario Lunes</td>\n",
       "      <td>EL GALPON</td>\n",
       "      <td>http://maps.google.com/?q=-34.7569682,-55.7669689</td>\n",
       "      <td>-34.756968</td>\n",
       "      <td>-55.766969</td>\n",
       "    </tr>\n",
       "  </tbody>\n",
       "</table>\n",
       "</div>"
      ],
      "text/plain": [
       "   CODIGO          PROYECTO                        NOMCLI  \\\n",
       "0   11975  Ruta Dario Lunes  DUNAS,PARQUE DEL PLATA NORTE   \n",
       "1   41938  Ruta Dario Lunes                       ROSMARI   \n",
       "2   41939  Ruta Dario Lunes                        LORENA   \n",
       "3   41971  Ruta Dario Lunes              PIZZERIA EL PAPO   \n",
       "4   82191  Ruta Dario Lunes                     EL GALPON   \n",
       "\n",
       "                                           UBICACIÓN    LATITUD   LONGITUD  \n",
       "0  Marcador 134\\nlat/lng: (-34.74643,-55.71194)\\n... -34.746430 -55.711940  \n",
       "1  Marcador 96\\nlat/lng: (-34.7458,-55.75967)\\n[h... -34.745800 -55.759670  \n",
       "2  Marcador 101\\nlat/lng: (-34.74895,-55.76612)\\n... -34.748950 -55.766120  \n",
       "3  Marcador 22\\nlat/lng: -34.74857,-55.76248\\n[ht... -34.748570 -55.762480  \n",
       "4  http://maps.google.com/?q=-34.7569682,-55.7669689 -34.756968 -55.766969  "
      ]
     },
     "execution_count": 12,
     "metadata": {},
     "output_type": "execute_result"
    }
   ],
   "source": [
    "Tabla_Proyectos_Clientes.head(5)"
   ]
  },
  {
   "cell_type": "markdown",
   "id": "15b61d55",
   "metadata": {},
   "source": [
    "## Exportamos \n"
   ]
  },
  {
   "cell_type": "code",
   "execution_count": 13,
   "id": "15d777f5-242c-424d-9882-3cf44db52dcc",
   "metadata": {},
   "outputs": [],
   "source": [
    "# Exportamos \n",
    "Tabla_Proyectos_Clientes.to_excel('../Limpia/Tabla_Proyectos_Clientes.xlsx', index=False)"
   ]
  }
 ],
 "metadata": {
  "kernelspec": {
   "display_name": "Python 3",
   "language": "python",
   "name": "python3"
  },
  "language_info": {
   "codemirror_mode": {
    "name": "ipython",
    "version": 3
   },
   "file_extension": ".py",
   "mimetype": "text/x-python",
   "name": "python",
   "nbconvert_exporter": "python",
   "pygments_lexer": "ipython3",
   "version": "3.10.11"
  }
 },
 "nbformat": 4,
 "nbformat_minor": 5
}
