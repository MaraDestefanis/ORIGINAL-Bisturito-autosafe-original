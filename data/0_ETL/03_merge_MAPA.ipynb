{
 "cells": [
  {
   "cell_type": "code",
   "execution_count": 1,
   "metadata": {},
   "outputs": [],
   "source": [
    "import pandas as pd\n",
    "import numpy as np\n",
    "from datetime import datetime\n",
    "import logging\n",
    "from sklearn.neighbors import NearestNeighbors\n",
    "import os\n",
    "\n",
    "# Configuración de logging\n",
    "logging.basicConfig(\n",
    "  filename='procesamiento_datos.log',\n",
    "  level=logging.INFO,\n",
    "  format='%(asctime)s - %(levelname)s - %(message)s'\n",
    ")"
   ]
  },
  {
   "cell_type": "code",
   "execution_count": 2,
   "metadata": {},
   "outputs": [
    {
     "name": "stdout",
     "output_type": "stream",
     "text": [
      "Archivos Excel leídos correctamente.\n"
     ]
    }
   ],
   "source": [
    "# Lectura de archivos Excel\n",
    "try:\n",
    "    estacionados_camion = pd.read_excel('../Limpia/estacionados_camion.xlsx')\n",
    "    df_tareas = pd.read_excel('../Limpia/Tareas-limpio.xlsx')\n",
    "    ubi_cliente = pd.read_excel('../Limpia/Ubicaciones_direcciones.xlsx')\n",
    "    print(\"Archivos Excel leídos correctamente.\")\n",
    "except Exception as e:\n",
    "    print(f\"Error al leer los archivos Excel: {e}\")\n",
    "    exit()"
   ]
  },
  {
   "cell_type": "code",
   "execution_count": 3,
   "metadata": {},
   "outputs": [
    {
     "name": "stdout",
     "output_type": "stream",
     "text": [
      "______ INFO DF_TAREAS ______ \n",
      "           \n",
      "<class 'pandas.core.frame.DataFrame'>\n",
      "RangeIndex: 1286 entries, 0 to 1285\n",
      "Data columns (total 2 columns):\n",
      " #   Column    Non-Null Count  Dtype \n",
      "---  ------    --------------  ----- \n",
      " 0   CODIGO    1286 non-null   int64 \n",
      " 1   PROYECTO  1286 non-null   object\n",
      "dtypes: int64(1), object(1)\n",
      "memory usage: 20.2+ KB\n",
      "           \n",
      "______ INFO UBI_CLIENTE ______ \n",
      "           \n",
      "<class 'pandas.core.frame.DataFrame'>\n",
      "RangeIndex: 720 entries, 0 to 719\n",
      "Data columns (total 6 columns):\n",
      " #   Column     Non-Null Count  Dtype         \n",
      "---  ------     --------------  -----         \n",
      " 0   CODIGO     720 non-null    int64         \n",
      " 1   NOMCLI     720 non-null    object        \n",
      " 2   LATITUD    720 non-null    float64       \n",
      " 3   UBICACIÓN  720 non-null    object        \n",
      " 4   LONGITUD   720 non-null    float64       \n",
      " 5   FECHA      720 non-null    datetime64[ns]\n",
      "dtypes: datetime64[ns](1), float64(2), int64(1), object(2)\n",
      "memory usage: 33.9+ KB\n",
      "           \n",
      "______ INFO ESTACIONADOS_CAMION ______ \n",
      "           \n",
      "<class 'pandas.core.frame.DataFrame'>\n",
      "RangeIndex: 7775 entries, 0 to 7774\n",
      "Data columns (total 9 columns):\n",
      " #   Column            Non-Null Count  Dtype         \n",
      "---  ------            --------------  -----         \n",
      " 0   Indice            7775 non-null   int64         \n",
      " 1   Numero_de_placa   7775 non-null   object        \n",
      " 2   Estado_de_viaje   7775 non-null   object        \n",
      " 3   Tiempo_de_Inicio  7775 non-null   datetime64[ns]\n",
      " 4   Tiempo_Final      7775 non-null   datetime64[ns]\n",
      " 5   Duracion          7775 non-null   float64       \n",
      " 6   Lugar_de_inicio   7775 non-null   object        \n",
      " 7   camion_x          7775 non-null   float64       \n",
      " 8   camion_y          7775 non-null   float64       \n",
      "dtypes: datetime64[ns](2), float64(3), int64(1), object(3)\n",
      "memory usage: 546.8+ KB\n"
     ]
    }
   ],
   "source": [
    "print(\"______ INFO DF_TAREAS ______ \")\n",
    "print(\"           \")\n",
    "df_tareas.info()\n",
    "print(\"           \")\n",
    "print(\"______ INFO UBI_CLIENTE ______ \")\n",
    "print(\"           \")\n",
    "ubi_cliente.info()\n",
    "print(\"           \")\n",
    "print(\"______ INFO ESTACIONADOS_CAMION ______ \")\n",
    "print(\"           \")\n",
    "estacionados_camion.info()"
   ]
  },
  {
   "cell_type": "code",
   "execution_count": 4,
   "metadata": {},
   "outputs": [
    {
     "data": {
      "text/html": [
       "<div>\n",
       "<style scoped>\n",
       "    .dataframe tbody tr th:only-of-type {\n",
       "        vertical-align: middle;\n",
       "    }\n",
       "\n",
       "    .dataframe tbody tr th {\n",
       "        vertical-align: top;\n",
       "    }\n",
       "\n",
       "    .dataframe thead th {\n",
       "        text-align: right;\n",
       "    }\n",
       "</style>\n",
       "<table border=\"1\" class=\"dataframe\">\n",
       "  <thead>\n",
       "    <tr style=\"text-align: right;\">\n",
       "      <th></th>\n",
       "      <th>Indice</th>\n",
       "      <th>Numero_de_placa</th>\n",
       "      <th>Estado_de_viaje</th>\n",
       "      <th>Tiempo_de_Inicio</th>\n",
       "      <th>Tiempo_Final</th>\n",
       "      <th>Duracion</th>\n",
       "      <th>Lugar_de_inicio</th>\n",
       "      <th>camion_x</th>\n",
       "      <th>camion_y</th>\n",
       "    </tr>\n",
       "  </thead>\n",
       "  <tbody>\n",
       "    <tr>\n",
       "      <th>7770</th>\n",
       "      <td>462</td>\n",
       "      <td>CAA 1076</td>\n",
       "      <td>Estacionamiento</td>\n",
       "      <td>2025-02-14 08:54:30</td>\n",
       "      <td>2025-02-14 09:18:03</td>\n",
       "      <td>23.55</td>\n",
       "      <td>34.733870S,55.769245W</td>\n",
       "      <td>-34.733870</td>\n",
       "      <td>-55.769245</td>\n",
       "    </tr>\n",
       "    <tr>\n",
       "      <th>7771</th>\n",
       "      <td>464</td>\n",
       "      <td>CAA 1076</td>\n",
       "      <td>Estacionamiento</td>\n",
       "      <td>2025-02-14 09:24:08</td>\n",
       "      <td>2025-02-14 09:39:12</td>\n",
       "      <td>15.07</td>\n",
       "      <td>34.736288S,55.765627W</td>\n",
       "      <td>-34.736288</td>\n",
       "      <td>-55.765627</td>\n",
       "    </tr>\n",
       "    <tr>\n",
       "      <th>7772</th>\n",
       "      <td>466</td>\n",
       "      <td>CAA 1076</td>\n",
       "      <td>Estacionamiento</td>\n",
       "      <td>2025-02-14 09:40:50</td>\n",
       "      <td>2025-02-14 10:02:54</td>\n",
       "      <td>22.07</td>\n",
       "      <td>34.740983S,55.764215W</td>\n",
       "      <td>-34.740983</td>\n",
       "      <td>-55.764215</td>\n",
       "    </tr>\n",
       "    <tr>\n",
       "      <th>7773</th>\n",
       "      <td>468</td>\n",
       "      <td>CAA 1076</td>\n",
       "      <td>Estacionamiento</td>\n",
       "      <td>2025-02-14 10:04:18</td>\n",
       "      <td>2025-02-14 10:08:28</td>\n",
       "      <td>4.17</td>\n",
       "      <td>34.745813S,55.759590W</td>\n",
       "      <td>-34.745813</td>\n",
       "      <td>-55.759590</td>\n",
       "    </tr>\n",
       "    <tr>\n",
       "      <th>7774</th>\n",
       "      <td>470</td>\n",
       "      <td>CAA 1076</td>\n",
       "      <td>Estacionamiento</td>\n",
       "      <td>2025-02-14 10:10:08</td>\n",
       "      <td>2025-02-14 10:22:57</td>\n",
       "      <td>12.82</td>\n",
       "      <td>34.746917S,55.768174W</td>\n",
       "      <td>-34.746917</td>\n",
       "      <td>-55.768174</td>\n",
       "    </tr>\n",
       "  </tbody>\n",
       "</table>\n",
       "</div>"
      ],
      "text/plain": [
       "      Indice Numero_de_placa  Estado_de_viaje    Tiempo_de_Inicio  \\\n",
       "7770     462        CAA 1076  Estacionamiento 2025-02-14 08:54:30   \n",
       "7771     464        CAA 1076  Estacionamiento 2025-02-14 09:24:08   \n",
       "7772     466        CAA 1076  Estacionamiento 2025-02-14 09:40:50   \n",
       "7773     468        CAA 1076  Estacionamiento 2025-02-14 10:04:18   \n",
       "7774     470        CAA 1076  Estacionamiento 2025-02-14 10:10:08   \n",
       "\n",
       "            Tiempo_Final  Duracion        Lugar_de_inicio   camion_x  \\\n",
       "7770 2025-02-14 09:18:03     23.55  34.733870S,55.769245W -34.733870   \n",
       "7771 2025-02-14 09:39:12     15.07  34.736288S,55.765627W -34.736288   \n",
       "7772 2025-02-14 10:02:54     22.07  34.740983S,55.764215W -34.740983   \n",
       "7773 2025-02-14 10:08:28      4.17  34.745813S,55.759590W -34.745813   \n",
       "7774 2025-02-14 10:22:57     12.82  34.746917S,55.768174W -34.746917   \n",
       "\n",
       "       camion_y  \n",
       "7770 -55.769245  \n",
       "7771 -55.765627  \n",
       "7772 -55.764215  \n",
       "7773 -55.759590  \n",
       "7774 -55.768174  "
      ]
     },
     "execution_count": 4,
     "metadata": {},
     "output_type": "execute_result"
    }
   ],
   "source": [
    "estacionados_camion.tail(5)"
   ]
  },
  {
   "cell_type": "markdown",
   "metadata": {},
   "source": [
    "## === INICIO DE ASIGNACIÓN DE CLIENTES A CAMIONES ===\n",
    "### Asignación de Cliente más Cercano"
   ]
  },
  {
   "cell_type": "code",
   "execution_count": 5,
   "metadata": {},
   "outputs": [
    {
     "name": "stdout",
     "output_type": "stream",
     "text": [
      "\n",
      "=== INICIO DE ASIGNACIÓN DE CLIENTES A CAMIONES ===\n",
      "\n",
      "1. PREPARANDO DATOS PARA EL MODELO\n",
      "-----------------------------------\n",
      "Matriz de coordenadas de clientes (X): (720, 2)\n",
      "Matriz de coordenadas de camiones (y): (7775, 2)\n",
      "\n",
      "2. ENTRENANDO MODELO NEAREST NEIGHBORS\n",
      "--------------------------------------\n",
      "Configuración del modelo:\n",
      "- n_neighbors: 1\n",
      "- algorithm: auto\n",
      "- metric: euclidean\n",
      "- p: 2 (norma L2)\n",
      "✓ Modelo entrenado exitosamente\n"
     ]
    }
   ],
   "source": [
    "print(\"\\n=== INICIO DE ASIGNACIÓN DE CLIENTES A CAMIONES ===\")\n",
    "\n",
    "print(\"\\n1. PREPARANDO DATOS PARA EL MODELO\")\n",
    "print(\"-----------------------------------\")\n",
    "# Usamos directamente los DataFrames originales\n",
    "X = ubi_cliente[['LATITUD', 'LONGITUD']].values\n",
    "y = estacionados_camion[['camion_x', 'camion_y']].values\n",
    "print(f\"Matriz de coordenadas de clientes (X): {X.shape}\")\n",
    "print(f\"Matriz de coordenadas de camiones (y): {y.shape}\")\n",
    "\n",
    "if X.shape[0] == 0 or y.shape[0] == 0:\n",
    "    print(\"❌ No hay suficientes datos con coordenadas válidas\")\n",
    "else:\n",
    "    print(\"\\n2. ENTRENANDO MODELO NEAREST NEIGHBORS\")\n",
    "    print(\"--------------------------------------\")\n",
    "    print(\"Configuración del modelo:\")\n",
    "    print(\"- n_neighbors: 1\")\n",
    "    print(\"- algorithm: auto\")\n",
    "    print(\"- metric: euclidean\")\n",
    "    print(\"- p: 2 (norma L2)\")\n",
    "    \n",
    "    nbrs = NearestNeighbors(n_neighbors=1, algorithm='auto', metric='euclidean', p=2).fit(X)\n",
    "    print(\"✓ Modelo entrenado exitosamente\")\n",
    "\n"
   ]
  },
  {
   "cell_type": "code",
   "execution_count": 6,
   "metadata": {},
   "outputs": [
    {
     "name": "stdout",
     "output_type": "stream",
     "text": [
      "\n",
      "3. CALCULANDO DISTANCIAS Y ASIGNANDO CLIENTES\n",
      "--------------------------------------------\n",
      "\n",
      "Estadísticas de distancias (en grados):\n",
      "- Distancia mínima: 0.0000°\n",
      "- Distancia máxima: 0.1673°\n",
      "- Distancia promedio: 0.0008°\n",
      "- Desviación estándar: 0.0032°\n",
      "\n",
      "Distribución de distancias:\n",
      "- Percentil 25: 0.0001°\n",
      "- Percentil 50: 0.0003°\n",
      "- Percentil 75: 0.0006°\n",
      "\n",
      "Total de asignaciones realizadas: 7775\n",
      "\n",
      "Estadísticas de asignación de clientes:\n",
      "- Clientes únicos asignados: 494\n",
      "- Máximo de veces que se asignó un mismo cliente: 560\n",
      "\n",
      "Top 5 clientes más asignados:\n",
      "  Cliente 80283: 560 veces\n",
      "  Cliente 80314: 205 veces\n",
      "  Cliente 11168: 178 veces\n",
      "  Cliente 12951: 85 veces\n",
      "  Cliente 12510: 81 veces\n"
     ]
    }
   ],
   "source": [
    "\n",
    "    print(\"\\n3. CALCULANDO DISTANCIAS Y ASIGNANDO CLIENTES\")\n",
    "    print(\"--------------------------------------------\")\n",
    "    distances, indices = nbrs.kneighbors(y)\n",
    "    \n",
    "    # Estadísticas de las distancias\n",
    "    print(\"\\nEstadísticas de distancias (en grados):\")\n",
    "    print(f\"- Distancia mínima: {distances.min():.4f}°\")\n",
    "    print(f\"- Distancia máxima: {distances.max():.4f}°\")\n",
    "    print(f\"- Distancia promedio: {distances.mean():.4f}°\")\n",
    "    print(f\"- Desviación estándar: {distances.std():.4f}°\")\n",
    "    \n",
    "    # Distribución de distancias\n",
    "    print(\"\\nDistribución de distancias:\")\n",
    "    percentiles = [25, 50, 75]\n",
    "    for p in percentiles:\n",
    "        print(f\"- Percentil {p}: {np.percentile(distances, p):.4f}°\")\n",
    "    \n",
    "    # Conteo de asignaciones\n",
    "    print(f\"\\nTotal de asignaciones realizadas: {len(indices)}\")\n",
    "    \n",
    "    # Análisis de clientes asignados: usamos ubi_cliente directamente\n",
    "    clientes_asignados = ubi_cliente.iloc[indices.flatten()]['CODIGO'].value_counts()\n",
    "    print(\"\\nEstadísticas de asignación de clientes:\")\n",
    "    print(f\"- Clientes únicos asignados: {len(clientes_asignados)}\")\n",
    "    if len(clientes_asignados) > 0:\n",
    "        print(f\"- Máximo de veces que se asignó un mismo cliente: {clientes_asignados.max()}\")\n",
    "        print(\"\\nTop 5 clientes más asignados:\")\n",
    "        for codigo, count in clientes_asignados.head().items():\n",
    "            print(f\"  Cliente {codigo}: {count} veces\")"
   ]
  },
  {
   "cell_type": "code",
   "execution_count": 7,
   "metadata": {},
   "outputs": [
    {
     "name": "stdout",
     "output_type": "stream",
     "text": [
      "\n",
      "4. ASIGNANDO CÓDIGOS DE CLIENTES A CAMIONES\n",
      "------------------------------------------\n",
      "✓ Códigos asignados exitosamente\n",
      "\n",
      "Estadísticas de asignaciones:\n",
      "- Asignaciones a menos de 1°: 7775 (100.0%)\n",
      "- Asignaciones a menos de 5°: 7775 (100.0%)\n",
      "- Asignaciones a menos de 10°: 7775 (100.0%)\n",
      "\n",
      "5. RESULTADOS FINALES\n",
      "--------------------------------\n",
      "Total de registros en resultado final: 7775\n",
      "- Camiones con cliente asignado: 7775\n",
      "- Camiones sin asignación: 0\n",
      "\n",
      "Resumen de calidad de asignaciones:\n",
      "- Porcentaje de camiones con asignación: 100.0%\n",
      "- Distancia promedio a clientes: 0.0008°\n",
      "- Mediana de distancia a clientes: 0.0003°\n",
      "\n",
      "=== FIN DE ASIGNACIÓN DE CLIENTES A CAMIONES ===\n"
     ]
    }
   ],
   "source": [
    "\n",
    "\n",
    "    print(\"\\n4. ASIGNANDO CÓDIGOS DE CLIENTES A CAMIONES\")\n",
    "    print(\"------------------------------------------\")\n",
    "    # Asignamos directamente sobre estacionados_camion\n",
    "    estacionados_camion['CODIGO'] = ubi_cliente.iloc[indices.flatten()]['CODIGO'].values\n",
    "    print(\"✓ Códigos asignados exitosamente\")\n",
    "    \n",
    "    # Añadimos las distancias al DataFrame\n",
    "    estacionados_camion['distancia_al_cliente'] = distances.flatten()\n",
    "    print(\"\\nEstadísticas de asignaciones:\")\n",
    "    print(f\"- Asignaciones a menos de 1°: {(distances < 1).sum()} ({(distances < 1).sum()/len(distances)*100:.1f}%)\")\n",
    "    print(f\"- Asignaciones a menos de 5°: {(distances < 5).sum()} ({(distances < 5).sum()/len(distances)*100:.1f}%)\")\n",
    "    print(f\"- Asignaciones a menos de 10°: {(distances < 10).sum()} ({(distances < 10).sum()/len(distances)*100:.1f}%)\")\n",
    "\n",
    "    print(\"\\n5. RESULTADOS FINALES\")\n",
    "    print(\"--------------------------------\")\n",
    "    # Como no hay filtrado, usamos directamente estacionados_camion como resultado final\n",
    "    estacionados_camion_final = estacionados_camion.copy()\n",
    "    total_camiones = len(estacionados_camion_final)\n",
    "    camiones_asignados = estacionados_camion_final['CODIGO'].notnull().sum()\n",
    "    camiones_sin_asignacion = total_camiones - camiones_asignados\n",
    "    \n",
    "    print(f\"Total de registros en resultado final: {total_camiones}\")\n",
    "    print(f\"- Camiones con cliente asignado: {camiones_asignados}\")\n",
    "    print(f\"- Camiones sin asignación: {camiones_sin_asignacion}\")\n",
    "    \n",
    "    # Resumen final de calidad de asignaciones\n",
    "    print(\"\\nResumen de calidad de asignaciones:\")\n",
    "    print(f\"- Porcentaje de camiones con asignación: {camiones_asignados/total_camiones*100:.1f}%\")\n",
    "    print(f\"- Distancia promedio a clientes: {distances.mean():.4f}°\")\n",
    "    print(f\"- Mediana de distancia a clientes: {np.median(distances):.4f}°\")\n",
    "\n",
    "print(\"\\n=== FIN DE ASIGNACIÓN DE CLIENTES A CAMIONES ===\")"
   ]
  },
  {
   "cell_type": "markdown",
   "metadata": {},
   "source": [
    "## === VERIFICACION DE DF TAREAS CODIGO  ==="
   ]
  },
  {
   "cell_type": "code",
   "execution_count": 8,
   "metadata": {},
   "outputs": [
    {
     "name": "stdout",
     "output_type": "stream",
     "text": [
      "\n",
      "1. PROCESANDO DF_TAREAS\n",
      "----------------------\n",
      "Verificando y limpiando códigos...\n",
      "Filas con 'CODIGO' nulo o no numérico: 0\n",
      "Filas eliminadas: 0\n",
      "Filas restantes: 1286\n",
      "Columnas seleccionadas: ['CODIGO', 'PROYECTO']\n"
     ]
    }
   ],
   "source": [
    "# Procesamiento de df_tareas\n",
    "print(\"\\n1. PROCESANDO DF_TAREAS\")\n",
    "print(\"----------------------\")\n",
    "print(\"Verificando y limpiando códigos...\")\n",
    "\n",
    "# Identificar registros inválidos\n",
    "df_tareas_invalidas = df_tareas[\n",
    "  df_tareas['CODIGO'].isnull() | \n",
    "  (df_tareas['CODIGO'].apply(lambda x: not str(x).isdigit()))\n",
    "].copy()\n",
    "print(f\"Filas con 'CODIGO' nulo o no numérico: {df_tareas_invalidas.shape[0]}\")\n",
    "\n",
    "# Limpiar y convertir CODIGO\n",
    "df_tareas = df_tareas.dropna(subset=['CODIGO']).copy()\n",
    "df_tareas['CODIGO'] = pd.to_numeric(df_tareas['CODIGO'], errors='coerce')\n",
    "filas_iniciales = df_tareas.shape[0]\n",
    "df_tareas = df_tareas.dropna(subset=['CODIGO']).copy()\n",
    "filas_finales = df_tareas.shape[0]\n",
    "df_tareas['CODIGO'] = df_tareas['CODIGO'].astype(int)\n",
    "\n",
    "print(f\"Filas eliminadas: {filas_iniciales - filas_finales}\")\n",
    "print(f\"Filas restantes: {filas_finales}\")\n",
    "\n",
    "# Filtrar columnas necesarias\n",
    "df_tareas_filtrado = df_tareas[['CODIGO', 'PROYECTO']].copy()\n",
    "print(f\"Columnas seleccionadas: {list(df_tareas_filtrado.columns)}\")\n"
   ]
  },
  {
   "cell_type": "code",
   "execution_count": 9,
   "metadata": {},
   "outputs": [
    {
     "name": "stdout",
     "output_type": "stream",
     "text": [
      "\n",
      "2. PROCESANDO ESTACIONADOS_CAMION\n",
      "--------------------------------\n",
      "✓ Columna 'Tiempo_de_Inicio' convertida a datetime\n",
      "✓ Columna 'Tiempo_Final' convertida a datetime\n",
      "Camiones estacionados: 7775 de 7775\n",
      "\n",
      "=== FIN DE LIMPIEZA DE DATOS ===\n"
     ]
    }
   ],
   "source": [
    "print(\"\\n2. PROCESANDO ESTACIONADOS_CAMION\")\n",
    "print(\"--------------------------------\")\n",
    "# Convertir columnas de tiempo\n",
    "for columna in ['Tiempo_de_Inicio', 'Tiempo_Final']:\n",
    "  if columna in estacionados_camion.columns:\n",
    "      estacionados_camion[columna] = pd.to_datetime(estacionados_camion[columna], errors='coerce')\n",
    "      print(f\"✓ Columna '{columna}' convertida a datetime\")\n",
    "\n",
    "# Filtrar camiones estacionados\n",
    "if 'Estado_de_viaje' in estacionados_camion.columns:\n",
    "  total_camiones = estacionados_camion.shape[0]\n",
    "  estacionados_camion_filtered = estacionados_camion[\n",
    "      estacionados_camion['Estado_de_viaje'] == 'Estacionamiento'\n",
    "  ].copy()\n",
    "  print(f\"Camiones estacionados: {estacionados_camion_filtered.shape[0]} de {total_camiones}\")\n",
    "else:\n",
    "  print(\"❌ Error: Falta columna 'Estado_de_viaje'\")\n",
    "  raise ValueError(\"Columna 'Estado_de_viaje' no encontrada\")\n",
    "\n",
    "print(\"\\n=== FIN DE LIMPIEZA DE DATOS ===\")"
   ]
  },
  {
   "cell_type": "code",
   "execution_count": 10,
   "metadata": {},
   "outputs": [
    {
     "name": "stdout",
     "output_type": "stream",
     "text": [
      "\n",
      "2. PROCESANDO ESTACIONADOS_CAMION\n",
      "--------------------------------\n",
      "✓ Columna 'Tiempo_de_Inicio' convertida a datetime\n",
      "✓ Columna 'Tiempo_Final' convertida a datetime\n",
      "Camiones estacionados: 7775 de 7775\n",
      "\n",
      "=== FIN DE LIMPIEZA DE DATOS ===\n"
     ]
    }
   ],
   "source": [
    "\n",
    "print(\"\\n2. PROCESANDO ESTACIONADOS_CAMION\")\n",
    "print(\"--------------------------------\")\n",
    "# Convertir columnas de tiempo\n",
    "for columna in ['Tiempo_de_Inicio', 'Tiempo_Final']:\n",
    "  if columna in estacionados_camion.columns:\n",
    "      estacionados_camion[columna] = pd.to_datetime(estacionados_camion[columna], errors='coerce')\n",
    "      print(f\"✓ Columna '{columna}' convertida a datetime\")\n",
    "\n",
    "# Filtrar camiones estacionados\n",
    "if 'Estado_de_viaje' in estacionados_camion.columns:\n",
    "  total_camiones = estacionados_camion.shape[0]\n",
    "  estacionados_camion_filtered = estacionados_camion[\n",
    "      estacionados_camion['Estado_de_viaje'] == 'Estacionamiento'\n",
    "  ].copy()\n",
    "  print(f\"Camiones estacionados: {estacionados_camion_filtered.shape[0]} de {total_camiones}\")\n",
    "else:\n",
    "  print(\"❌ Error: Falta columna 'Estado_de_viaje'\")\n",
    "  raise ValueError(\"Columna 'Estado_de_viaje' no encontrada\")\n",
    "\n",
    "print(\"\\n=== FIN DE LIMPIEZA DE DATOS ===\")"
   ]
  },
  {
   "cell_type": "code",
   "execution_count": 11,
   "metadata": {},
   "outputs": [
    {
     "name": "stdout",
     "output_type": "stream",
     "text": [
      "<class 'pandas.core.frame.DataFrame'>\n",
      "RangeIndex: 7775 entries, 0 to 7774\n",
      "Data columns (total 11 columns):\n",
      " #   Column                Non-Null Count  Dtype         \n",
      "---  ------                --------------  -----         \n",
      " 0   Indice                7775 non-null   int64         \n",
      " 1   Numero_de_placa       7775 non-null   object        \n",
      " 2   Estado_de_viaje       7775 non-null   object        \n",
      " 3   Tiempo_de_Inicio      7775 non-null   datetime64[ns]\n",
      " 4   Tiempo_Final          7775 non-null   datetime64[ns]\n",
      " 5   Duracion              7775 non-null   float64       \n",
      " 6   Lugar_de_inicio       7775 non-null   object        \n",
      " 7   camion_x              7775 non-null   float64       \n",
      " 8   camion_y              7775 non-null   float64       \n",
      " 9   CODIGO                7775 non-null   int64         \n",
      " 10  distancia_al_cliente  7775 non-null   float64       \n",
      "dtypes: datetime64[ns](2), float64(4), int64(2), object(3)\n",
      "memory usage: 668.3+ KB\n"
     ]
    }
   ],
   "source": [
    "estacionados_camion_filtered.info()"
   ]
  },
  {
   "cell_type": "markdown",
   "metadata": {},
   "source": [
    "## === INICIO DE PROCESO DE MERGES ==="
   ]
  },
  {
   "cell_type": "code",
   "execution_count": 12,
   "metadata": {},
   "outputs": [
    {
     "data": {
      "text/plain": [
       "'\\nprint(\"\\n=== INICIO DE PROCESO DE MERGES ===\")\\n\\nprint(\"\\n1. PRIMER MERGE: df_tareas_filtrado con ubi_cliente\")\\nprint(\"---------------------------------------------\")\\nprint(f\"Estado inicial:\")\\nprint(f\"- df_tareas_filtrado: {df_tareas_filtrado.shape} filas\")\\nprint(f\"- ubi_cliente: {ubi_cliente.shape} filas\")\\n\\n# Primer merge\\nmerged_df = pd.merge(df_tareas_filtrado, ubi_cliente, on=\\'CODIGO\\', how=\\'inner\\')\\nprint(\"\\nResultado del primer merge:\")\\nprint(f\"- Filas resultantes: {merged_df.shape[0]}\")\\nprint(f\"- Columnas resultantes: {merged_df.shape[1]}\")\\nprint(f\"- Columnas: {merged_df.columns.tolist()}\")\\n'"
      ]
     },
     "execution_count": 12,
     "metadata": {},
     "output_type": "execute_result"
    }
   ],
   "source": [
    "'''\n",
    "print(\"\\n=== INICIO DE PROCESO DE MERGES ===\")\n",
    "\n",
    "print(\"\\n1. PRIMER MERGE: df_tareas_filtrado con ubi_cliente\")\n",
    "print(\"---------------------------------------------\")\n",
    "print(f\"Estado inicial:\")\n",
    "print(f\"- df_tareas_filtrado: {df_tareas_filtrado.shape} filas\")\n",
    "print(f\"- ubi_cliente: {ubi_cliente.shape} filas\")\n",
    "\n",
    "# Primer merge\n",
    "merged_df = pd.merge(df_tareas_filtrado, ubi_cliente, on='CODIGO', how='inner')\n",
    "print(\"\\nResultado del primer merge:\")\n",
    "print(f\"- Filas resultantes: {merged_df.shape[0]}\")\n",
    "print(f\"- Columnas resultantes: {merged_df.shape[1]}\")\n",
    "print(f\"- Columnas: {merged_df.columns.tolist()}\")\n",
    "'''"
   ]
  },
  {
   "cell_type": "markdown",
   "metadata": {},
   "source": [
    "### Prueba merge outer para detectar problemas"
   ]
  },
  {
   "cell_type": "code",
   "execution_count": 13,
   "metadata": {},
   "outputs": [
    {
     "name": "stdout",
     "output_type": "stream",
     "text": [
      "\n",
      "=== Resultados del merge con OUTER ===\n",
      "_merge\n",
      "both          1153\n",
      "right_only     225\n",
      "left_only      142\n",
      "Name: count, dtype: int64\n",
      "\n",
      "Registros en df_tareas_filtrado que NO tienen match en ubi_cliente: 142\n",
      "Registros en ubi_cliente que NO tienen match en df_tareas_filtrado: 225\n"
     ]
    }
   ],
   "source": [
    "# Hacemos un merge con how='outer' para ver qué registros se pierden en cada DataFrame\n",
    "merged_df_test = pd.merge(df_tareas_filtrado, ubi_cliente, on='CODIGO', how='outer', indicator=True)\n",
    "\n",
    "# Contamos cuántos registros vienen de cada DataFrame\n",
    "print(\"\\n=== Resultados del merge con OUTER ===\")\n",
    "print(merged_df_test['_merge'].value_counts())\n",
    "\n",
    "# Filtramos los registros que vienen solo de cada tabla\n",
    "solo_en_tareas = merged_df_test[merged_df_test['_merge'] == 'left_only']\n",
    "solo_en_clientes = merged_df_test[merged_df_test['_merge'] == 'right_only']\n",
    "\n",
    "# Mostramos cuántos registros están en una tabla pero no en la otra\n",
    "print(f\"\\nRegistros en df_tareas_filtrado que NO tienen match en ubi_cliente: {len(solo_en_tareas)}\")\n",
    "print(f\"Registros en ubi_cliente que NO tienen match en df_tareas_filtrado: {len(solo_en_clientes)}\")\n",
    "\n",
    "# Opcional: Guardar los registros que no tienen match para analizarlos\n",
    "solo_en_tareas.to_excel(\"solo_en_tareas.xlsx\", index=False)\n",
    "solo_en_clientes.to_excel(\"solo_en_clientes.xlsx\", index=False)"
   ]
  },
  {
   "cell_type": "markdown",
   "metadata": {},
   "source": []
  },
  {
   "cell_type": "markdown",
   "metadata": {},
   "source": []
  },
  {
   "cell_type": "code",
   "execution_count": 14,
   "metadata": {},
   "outputs": [
    {
     "name": "stdout",
     "output_type": "stream",
     "text": [
      "\n",
      "2. MERGE FINAL\n",
      "------------\n",
      "Realizando merge final entre merged_df y estacionados_camion_final\n"
     ]
    },
    {
     "ename": "NameError",
     "evalue": "name 'merged_df' is not defined",
     "output_type": "error",
     "traceback": [
      "\u001b[1;31m---------------------------------------------------------------------------\u001b[0m",
      "\u001b[1;31mNameError\u001b[0m                                 Traceback (most recent call last)",
      "Cell \u001b[1;32mIn[14], line 6\u001b[0m\n\u001b[0;32m      3\u001b[0m \u001b[38;5;28mprint\u001b[39m(\u001b[38;5;124m\"\u001b[39m\u001b[38;5;124mRealizando merge final entre merged_df y estacionados_camion_final\u001b[39m\u001b[38;5;124m\"\u001b[39m)\n\u001b[0;32m      4\u001b[0m \u001b[38;5;66;03m# Usamos estacionados_camion_final que ya tiene la columna CODIGO asignada\u001b[39;00m\n\u001b[0;32m      5\u001b[0m merged_final_df \u001b[38;5;241m=\u001b[39m pd\u001b[38;5;241m.\u001b[39mmerge(\n\u001b[1;32m----> 6\u001b[0m   \u001b[43mmerged_df\u001b[49m, \n\u001b[0;32m      7\u001b[0m   estacionados_camion_final,  \u001b[38;5;66;03m# Usamos el DataFrame que ya tiene CODIGO\u001b[39;00m\n\u001b[0;32m      8\u001b[0m   on\u001b[38;5;241m=\u001b[39m\u001b[38;5;124m'\u001b[39m\u001b[38;5;124mCODIGO\u001b[39m\u001b[38;5;124m'\u001b[39m, \n\u001b[0;32m      9\u001b[0m   how\u001b[38;5;241m=\u001b[39m\u001b[38;5;124m'\u001b[39m\u001b[38;5;124minner\u001b[39m\u001b[38;5;124m'\u001b[39m,\n\u001b[0;32m     10\u001b[0m   suffixes\u001b[38;5;241m=\u001b[39m(\u001b[38;5;124m'\u001b[39m\u001b[38;5;124m_tareas\u001b[39m\u001b[38;5;124m'\u001b[39m, \u001b[38;5;124m'\u001b[39m\u001b[38;5;124m_camion\u001b[39m\u001b[38;5;124m'\u001b[39m)\n\u001b[0;32m     11\u001b[0m )\n\u001b[0;32m     12\u001b[0m \u001b[38;5;28mprint\u001b[39m(\u001b[38;5;124mf\u001b[39m\u001b[38;5;124m\"\u001b[39m\u001b[38;5;130;01m\\n\u001b[39;00m\u001b[38;5;124mResultado del merge final:\u001b[39m\u001b[38;5;124m\"\u001b[39m)\n\u001b[0;32m     13\u001b[0m \u001b[38;5;28mprint\u001b[39m(\u001b[38;5;124mf\u001b[39m\u001b[38;5;124m\"\u001b[39m\u001b[38;5;124m- Filas: \u001b[39m\u001b[38;5;132;01m{\u001b[39;00mmerged_final_df\u001b[38;5;241m.\u001b[39mshape[\u001b[38;5;241m0\u001b[39m]\u001b[38;5;132;01m}\u001b[39;00m\u001b[38;5;124m\"\u001b[39m)\n",
      "\u001b[1;31mNameError\u001b[0m: name 'merged_df' is not defined"
     ]
    }
   ],
   "source": [
    "print(\"\\n2. MERGE FINAL\")\n",
    "print(\"------------\")\n",
    "print(\"Realizando merge final entre merged_df y estacionados_camion_final\")\n",
    "# Usamos estacionados_camion_final que ya tiene la columna CODIGO asignada\n",
    "merged_final_df = pd.merge(\n",
    "  merged_df, \n",
    "  estacionados_camion_final,  # Usamos el DataFrame que ya tiene CODIGO\n",
    "  on='CODIGO', \n",
    "  how='inner',\n",
    "  suffixes=('_tareas', '_camion')\n",
    ")\n",
    "print(f\"\\nResultado del merge final:\")\n",
    "print(f\"- Filas: {merged_final_df.shape[0]}\")\n",
    "print(f\"- Columnas: {merged_final_df.shape[1]}\")\n",
    "\n",
    "print(\"\\n3. SELECCIÓN DE COLUMNAS FINALES\")\n",
    "print(\"------------------------------\")\n",
    "columnas_finales = [\n",
    "  'CODIGO', 'PROYECTO', 'NOMCLI', 'Duracion', 'Tiempo_de_Inicio', 'UBICACIÓN',\n",
    "  'Numero_de_placa', 'LATITUD', 'LONGITUD', 'camion_x', 'camion_y'\n",
    "]\n",
    "\n"
   ]
  },
  {
   "cell_type": "code",
   "execution_count": 13,
   "metadata": {},
   "outputs": [
    {
     "name": "stdout",
     "output_type": "stream",
     "text": [
      "\n",
      "Columnas seleccionadas exitosamente:\n",
      "- CODIGO\n",
      "- PROYECTO\n",
      "- NOMCLI\n",
      "- Duracion\n",
      "- Tiempo_de_Inicio\n",
      "- UBICACIÓN\n",
      "- Numero_de_placa\n",
      "- LATITUD\n",
      "- LONGITUD\n",
      "- camion_x\n",
      "- camion_y\n"
     ]
    }
   ],
   "source": [
    "\n",
    "# Verificar columnas disponibles\n",
    "columnas_faltantes = [col for col in columnas_finales if col not in merged_final_df.columns]\n",
    "if columnas_faltantes:\n",
    "  print(\"\\n⚠️ Columnas faltantes:\")\n",
    "  for col in columnas_faltantes:\n",
    "      print(f\"- {col}\")\n",
    "else:\n",
    "  filtered_df = merged_final_df[columnas_finales].copy()\n",
    "  print(\"\\nColumnas seleccionadas exitosamente:\")\n",
    "  for col in columnas_finales:\n",
    "      print(f\"- {col}\")"
   ]
  },
  {
   "cell_type": "markdown",
   "metadata": {},
   "source": [
    "## GUARDANDO RESULTADO"
   ]
  },
  {
   "cell_type": "code",
   "execution_count": 14,
   "metadata": {},
   "outputs": [
    {
     "name": "stdout",
     "output_type": "stream",
     "text": [
      "\n",
      "4. GUARDANDO RESULTADO\n",
      "--------------------\n",
      "✓ Archivo guardado exitosamente\n",
      "\n",
      "Verificación final de nulos:\n",
      "- CODIGO: 0 nulos\n",
      "- PROYECTO: 0 nulos\n",
      "- NOMCLI: 0 nulos\n",
      "- Duracion: 0 nulos\n",
      "- Tiempo_de_Inicio: 0 nulos\n",
      "- UBICACIÓN: 0 nulos\n",
      "- Numero_de_placa: 0 nulos\n",
      "- LATITUD: 0 nulos\n",
      "- LONGITUD: 0 nulos\n",
      "- camion_x: 0 nulos\n",
      "- camion_y: 0 nulos\n",
      "\n",
      "=== FIN DE PROCESO DE MERGES ===\n"
     ]
    }
   ],
   "source": [
    "\n",
    "print(\"\\n4. GUARDANDO RESULTADO\")\n",
    "print(\"--------------------\")\n",
    "try:\n",
    "  filtered_df.to_excel('../Limpia/merged_df.xlsx', index=False)\n",
    "  print(\"✓ Archivo guardado exitosamente\")\n",
    "  \n",
    "  print(\"\\nVerificación final de nulos:\")\n",
    "  nulos = filtered_df.isnull().sum()\n",
    "  for columna, cantidad in nulos.items():\n",
    "      print(f\"- {columna}: {cantidad} nulos\")\n",
    "except Exception as e:\n",
    "  print(f\"❌ Error al guardar: {e}\")\n",
    "\n",
    "print(\"\\n=== FIN DE PROCESO DE MERGES ===\")"
   ]
  },
  {
   "cell_type": "code",
   "execution_count": 15,
   "metadata": {},
   "outputs": [
    {
     "name": "stdout",
     "output_type": "stream",
     "text": [
      "<class 'pandas.core.frame.DataFrame'>\n",
      "RangeIndex: 21373 entries, 0 to 21372\n",
      "Data columns (total 11 columns):\n",
      " #   Column            Non-Null Count  Dtype         \n",
      "---  ------            --------------  -----         \n",
      " 0   CODIGO            21373 non-null  int32         \n",
      " 1   PROYECTO          21373 non-null  object        \n",
      " 2   NOMCLI            21373 non-null  object        \n",
      " 3   Duracion          21373 non-null  float64       \n",
      " 4   Tiempo_de_Inicio  21373 non-null  datetime64[ns]\n",
      " 5   UBICACIÓN         21373 non-null  object        \n",
      " 6   Numero_de_placa   21373 non-null  object        \n",
      " 7   LATITUD           21373 non-null  float64       \n",
      " 8   LONGITUD          21373 non-null  float64       \n",
      " 9   camion_x          21373 non-null  float64       \n",
      " 10  camion_y          21373 non-null  float64       \n",
      "dtypes: datetime64[ns](1), float64(5), int32(1), object(4)\n",
      "memory usage: 1.7+ MB\n"
     ]
    },
    {
     "data": {
      "text/html": [
       "<div>\n",
       "<style scoped>\n",
       "    .dataframe tbody tr th:only-of-type {\n",
       "        vertical-align: middle;\n",
       "    }\n",
       "\n",
       "    .dataframe tbody tr th {\n",
       "        vertical-align: top;\n",
       "    }\n",
       "\n",
       "    .dataframe thead th {\n",
       "        text-align: right;\n",
       "    }\n",
       "</style>\n",
       "<table border=\"1\" class=\"dataframe\">\n",
       "  <thead>\n",
       "    <tr style=\"text-align: right;\">\n",
       "      <th></th>\n",
       "      <th>CODIGO</th>\n",
       "      <th>PROYECTO</th>\n",
       "      <th>NOMCLI</th>\n",
       "      <th>Duracion</th>\n",
       "      <th>Tiempo_de_Inicio</th>\n",
       "      <th>UBICACIÓN</th>\n",
       "      <th>Numero_de_placa</th>\n",
       "      <th>LATITUD</th>\n",
       "      <th>LONGITUD</th>\n",
       "      <th>camion_x</th>\n",
       "      <th>camion_y</th>\n",
       "    </tr>\n",
       "  </thead>\n",
       "  <tbody>\n",
       "    <tr>\n",
       "      <th>21368</th>\n",
       "      <td>12450</td>\n",
       "      <td>💲Creditos Administracion</td>\n",
       "      <td>Efeta SRL:</td>\n",
       "      <td>23.03</td>\n",
       "      <td>2025-02-04 10:08:58</td>\n",
       "      <td>http://maps.google.com/?q=-34.78064530920805,-...</td>\n",
       "      <td>AAW 4251</td>\n",
       "      <td>-34.780645</td>\n",
       "      <td>-55.838592</td>\n",
       "      <td>-34.780809</td>\n",
       "      <td>-55.838439</td>\n",
       "    </tr>\n",
       "    <tr>\n",
       "      <th>21369</th>\n",
       "      <td>12450</td>\n",
       "      <td>💲Creditos Administracion</td>\n",
       "      <td>Efeta SRL:</td>\n",
       "      <td>34.58</td>\n",
       "      <td>2025-02-06 09:28:50</td>\n",
       "      <td>http://maps.google.com/?q=-34.78064530920805,-...</td>\n",
       "      <td>AAW 4251</td>\n",
       "      <td>-34.780645</td>\n",
       "      <td>-55.838592</td>\n",
       "      <td>-34.780865</td>\n",
       "      <td>-55.838490</td>\n",
       "    </tr>\n",
       "    <tr>\n",
       "      <th>21370</th>\n",
       "      <td>12450</td>\n",
       "      <td>💲Creditos Administracion</td>\n",
       "      <td>Efeta SRL:</td>\n",
       "      <td>22.95</td>\n",
       "      <td>2025-02-08 09:29:45</td>\n",
       "      <td>http://maps.google.com/?q=-34.78064530920805,-...</td>\n",
       "      <td>AAW 4251</td>\n",
       "      <td>-34.780645</td>\n",
       "      <td>-55.838592</td>\n",
       "      <td>-34.780770</td>\n",
       "      <td>-55.838444</td>\n",
       "    </tr>\n",
       "    <tr>\n",
       "      <th>21371</th>\n",
       "      <td>12450</td>\n",
       "      <td>💲Creditos Administracion</td>\n",
       "      <td>Efeta SRL:</td>\n",
       "      <td>24.33</td>\n",
       "      <td>2025-02-11 09:44:04</td>\n",
       "      <td>http://maps.google.com/?q=-34.78064530920805,-...</td>\n",
       "      <td>AAW 4251</td>\n",
       "      <td>-34.780645</td>\n",
       "      <td>-55.838592</td>\n",
       "      <td>-34.780795</td>\n",
       "      <td>-55.838382</td>\n",
       "    </tr>\n",
       "    <tr>\n",
       "      <th>21372</th>\n",
       "      <td>12450</td>\n",
       "      <td>💲Creditos Administracion</td>\n",
       "      <td>Efeta SRL:</td>\n",
       "      <td>18.40</td>\n",
       "      <td>2025-02-13 09:47:00</td>\n",
       "      <td>http://maps.google.com/?q=-34.78064530920805,-...</td>\n",
       "      <td>AAW 4251</td>\n",
       "      <td>-34.780645</td>\n",
       "      <td>-55.838592</td>\n",
       "      <td>-34.780765</td>\n",
       "      <td>-55.838417</td>\n",
       "    </tr>\n",
       "  </tbody>\n",
       "</table>\n",
       "</div>"
      ],
      "text/plain": [
       "       CODIGO                  PROYECTO       NOMCLI  Duracion  \\\n",
       "21368   12450  💲Creditos Administracion   Efeta SRL:     23.03   \n",
       "21369   12450  💲Creditos Administracion   Efeta SRL:     34.58   \n",
       "21370   12450  💲Creditos Administracion   Efeta SRL:     22.95   \n",
       "21371   12450  💲Creditos Administracion   Efeta SRL:     24.33   \n",
       "21372   12450  💲Creditos Administracion   Efeta SRL:     18.40   \n",
       "\n",
       "         Tiempo_de_Inicio                                          UBICACIÓN  \\\n",
       "21368 2025-02-04 10:08:58  http://maps.google.com/?q=-34.78064530920805,-...   \n",
       "21369 2025-02-06 09:28:50  http://maps.google.com/?q=-34.78064530920805,-...   \n",
       "21370 2025-02-08 09:29:45  http://maps.google.com/?q=-34.78064530920805,-...   \n",
       "21371 2025-02-11 09:44:04  http://maps.google.com/?q=-34.78064530920805,-...   \n",
       "21372 2025-02-13 09:47:00  http://maps.google.com/?q=-34.78064530920805,-...   \n",
       "\n",
       "      Numero_de_placa    LATITUD   LONGITUD   camion_x   camion_y  \n",
       "21368        AAW 4251 -34.780645 -55.838592 -34.780809 -55.838439  \n",
       "21369        AAW 4251 -34.780645 -55.838592 -34.780865 -55.838490  \n",
       "21370        AAW 4251 -34.780645 -55.838592 -34.780770 -55.838444  \n",
       "21371        AAW 4251 -34.780645 -55.838592 -34.780795 -55.838382  \n",
       "21372        AAW 4251 -34.780645 -55.838592 -34.780765 -55.838417  "
      ]
     },
     "execution_count": 15,
     "metadata": {},
     "output_type": "execute_result"
    }
   ],
   "source": [
    "filtered_df.info()\n",
    "filtered_df.tail(5)"
   ]
  }
 ],
 "metadata": {
  "kernelspec": {
   "display_name": "Python 3",
   "language": "python",
   "name": "python3"
  },
  "language_info": {
   "codemirror_mode": {
    "name": "ipython",
    "version": 3
   },
   "file_extension": ".py",
   "mimetype": "text/x-python",
   "name": "python",
   "nbconvert_exporter": "python",
   "pygments_lexer": "ipython3",
   "version": "3.10.11"
  }
 },
 "nbformat": 4,
 "nbformat_minor": 2
}
