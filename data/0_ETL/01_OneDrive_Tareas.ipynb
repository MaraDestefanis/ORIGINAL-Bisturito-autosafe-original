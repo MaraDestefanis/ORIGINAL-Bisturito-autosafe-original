{
 "cells": [
  {
   "cell_type": "code",
   "execution_count": 1,
   "metadata": {},
   "outputs": [],
   "source": [
    "import re\n",
    "\n",
    "import numpy as np\n",
    "import pandas as pd\n",
    "\n",
    "import warnings\n",
    "warnings.filterwarnings('ignore')\n",
    "\n",
    "import unicodedata"
   ]
  },
  {
   "cell_type": "markdown",
   "metadata": {},
   "source": [
    "### Tareas.xlsx -> Tareas-limpio.xlsx(Proyectos)"
   ]
  },
  {
   "cell_type": "code",
   "execution_count": 2,
   "metadata": {},
   "outputs": [
    {
     "name": "stdout",
     "output_type": "stream",
     "text": [
      "\n",
      "=== INICIO DE LIMPIEZA DE TAREAS ===\n",
      "\n",
      "1. CARGANDO ARCHIVO DE TAREAS\n",
      "----------------------------\n",
      "✓ Archivo cargado exitosamente\n",
      "- Filas iniciales: 1294\n",
      "- Columnas iniciales: 15\n",
      "\n",
      "Columnas disponibles:\n",
      "- PROYECTO\n",
      "- TAREA\n",
      "- DESCRIPCION\n",
      "- SECCION\n",
      "- FECHA\n",
      "- PERIODICIDAD\n",
      "- ORDEN\n",
      "- RESPONSABLE\n",
      "- CODPROY\n",
      "- CODTAREA\n",
      "- ETIQUETA\n",
      "- CODIGO\n",
      "- TIPO\n",
      "- ORDEN.1\n",
      "- CODCLI2\n"
     ]
    }
   ],
   "source": [
    "print(\"\\n=== INICIO DE LIMPIEZA DE TAREAS ===\")\n",
    "\n",
    "# 1. Carga inicial\n",
    "print(\"\\n1. CARGANDO ARCHIVO DE TAREAS\")\n",
    "print(\"----------------------------\")\n",
    "try:\n",
    "    df_tareas = pd.read_excel('../Sucia/Tareas.xlsm', engine=\"openpyxl\")\n",
    "    print(\"✓ Archivo cargado exitosamente\")\n",
    "    print(f\"- Filas iniciales: {df_tareas.shape[0]}\")\n",
    "    print(f\"- Columnas iniciales: {df_tareas.shape[1]}\")\n",
    "    print(\"\\nColumnas disponibles:\")\n",
    "    for col in df_tareas.columns:\n",
    "        print(f\"- {col}\")\n",
    "except Exception as e:\n",
    "    print(f\"❌ Error al cargar archivo: {e}\")\n",
    "    raise\n",
    "\n"
   ]
  },
  {
   "cell_type": "code",
   "execution_count": 3,
   "metadata": {},
   "outputs": [
    {
     "name": "stdout",
     "output_type": "stream",
     "text": [
      "\n",
      "2. VERIFICACIÓN INICIAL DE NULOS\n",
      "------------------------------\n",
      "Nulos por columna:\n",
      "- CODIGO: 8 nulos\n",
      "- PROYECTO: 0 nulos\n"
     ]
    }
   ],
   "source": [
    "# 2. Verificación inicial de nulos\n",
    "print(\"\\n2. VERIFICACIÓN INICIAL DE NULOS\")\n",
    "print(\"------------------------------\")\n",
    "nulos_iniciales = df_tareas[['CODIGO', 'PROYECTO']].isnull().sum()\n",
    "print(\"Nulos por columna:\")\n",
    "for columna, cantidad in nulos_iniciales.items():\n",
    "  print(f\"- {columna}: {cantidad} nulos\")"
   ]
  },
  {
   "cell_type": "code",
   "execution_count": 4,
   "metadata": {},
   "outputs": [],
   "source": [
    "df_tareas = df_tareas.dropna(subset=['CODIGO'])"
   ]
  },
  {
   "cell_type": "code",
   "execution_count": null,
   "metadata": {},
   "outputs": [
    {
     "name": "stdout",
     "output_type": "stream",
     "text": [
      "\n",
      "4. LIMPIEZA DE PROYECTO\n",
      "---------------------\n",
      "✓ Acentos removidos de la columna PROYECTO\n"
     ]
    }
   ],
   "source": [
    "# 4. Limpieza de PROYECTO\n",
    "print(\"\\n4. LIMPIEZA DE PROYECTO\")\n",
    "print(\"---------------------\")\n",
    "# Función para limpiar texto\n",
    "def strip_accents(text):\n",
    "  if pd.isna(text):\n",
    "      return text\n",
    "  return ''.join(c for c in unicodedata.normalize('NFD', str(text))\n",
    "                if unicodedata.category(c) != 'Mn')\n",
    "\n",
    "# Aplicar limpieza a PROYECTO\n",
    "df_tareas['PROYECTO'] = df_tareas['PROYECTO'].apply(strip_accents)\n",
    "print(\"✓ Acentos removidos de la columna PROYECTO\")"
   ]
  },
  {
   "cell_type": "code",
   "execution_count": 6,
   "metadata": {},
   "outputs": [
    {
     "name": "stdout",
     "output_type": "stream",
     "text": [
      "\n",
      "5. SELECCIÓN DE COLUMNAS\n",
      "----------------------\n",
      "Columnas seleccionadas: CODIGO, PROYECTO\n"
     ]
    }
   ],
   "source": [
    "# 5. Selección final de columnas\n",
    "print(\"\\n5. SELECCIÓN DE COLUMNAS\")\n",
    "print(\"----------------------\")\n",
    "columnas_finales = ['CODIGO', 'PROYECTO']\n",
    "df_tareas = df_tareas[columnas_finales]\n",
    "print(f\"Columnas seleccionadas: {', '.join(columnas_finales)}\")\n"
   ]
  },
  {
   "cell_type": "code",
   "execution_count": 7,
   "metadata": {},
   "outputs": [
    {
     "name": "stdout",
     "output_type": "stream",
     "text": [
      "\n",
      "6. GUARDANDO ARCHIVO LIMPIO\n",
      "-------------------------\n"
     ]
    },
    {
     "name": "stdout",
     "output_type": "stream",
     "text": [
      "✓ Archivo guardado exitosamente en '../Limpia/Tareas-limpio.xlsx'\n",
      "\n",
      "Estado final del DataFrame:\n",
      "- Filas: 1286\n",
      "- Columnas: 2\n",
      "\n",
      "Muestra de datos limpios:\n",
      "       CODIGO               PROYECTO\n",
      "548   80191.0     Ruta Martin Sabado\n",
      "1034  21955.0    Clientes Especiales\n",
      "618   81155.0  Ruta Alejandro Martes\n",
      "327   12993.0       Ruta Hugo Jueves\n",
      "455   21615.0  Ruta Martin Miercoles\n",
      "\n",
      "Verificación final de nulos:\n",
      "- CODIGO: 0 nulos\n",
      "- PROYECTO: 0 nulos\n",
      "\n",
      "=== FIN DE LIMPIEZA DE TAREAS ===\n"
     ]
    }
   ],
   "source": [
    "# 6. Guardado de archivo\n",
    "print(\"\\n6. GUARDANDO ARCHIVO LIMPIO\")\n",
    "print(\"-------------------------\")\n",
    "try:\n",
    "  df_tareas.to_excel(\"../Limpia/Tareas-limpio.xlsx\", index=False)\n",
    "  print(\"✓ Archivo guardado exitosamente en '../Limpia/Tareas-limpio.xlsx'\")\n",
    "  \n",
    "  # Verificación final\n",
    "  print(\"\\nEstado final del DataFrame:\")\n",
    "  print(f\"- Filas: {df_tareas.shape[0]}\")\n",
    "  print(f\"- Columnas: {df_tareas.shape[1]}\")\n",
    "  print(\"\\nMuestra de datos limpios:\")\n",
    "  print(df_tareas.sample(min(5, len(df_tareas))))\n",
    "  \n",
    "  print(\"\\nVerificación final de nulos:\")\n",
    "  nulos_finales = df_tareas.isnull().sum()\n",
    "  for columna, cantidad in nulos_finales.items():\n",
    "      print(f\"- {columna}: {cantidad} nulos\")\n",
    "except Exception as e:\n",
    "  print(f\"❌ Error al guardar archivo: {e}\")\n",
    "\n",
    "print(\"\\n=== FIN DE LIMPIEZA DE TAREAS ===\")"
   ]
  },
  {
   "cell_type": "code",
   "execution_count": 8,
   "metadata": {},
   "outputs": [
    {
     "name": "stdout",
     "output_type": "stream",
     "text": [
      "<class 'pandas.core.frame.DataFrame'>\n",
      "Index: 1286 entries, 0 to 1293\n",
      "Data columns (total 2 columns):\n",
      " #   Column    Non-Null Count  Dtype  \n",
      "---  ------    --------------  -----  \n",
      " 0   CODIGO    1286 non-null   float64\n",
      " 1   PROYECTO  1286 non-null   object \n",
      "dtypes: float64(1), object(1)\n",
      "memory usage: 30.1+ KB\n"
     ]
    }
   ],
   "source": [
    "df_tareas.info()"
   ]
  },
  {
   "cell_type": "code",
   "execution_count": 9,
   "metadata": {},
   "outputs": [
    {
     "name": "stdout",
     "output_type": "stream",
     "text": [
      "['Ruta Dario Lunes' 'Ruta Dario Martes' 'Ruta Dario Miercoles'\n",
      " 'Ruta Dario Jueves' 'Ruta Dario Viernes' 'Ruta Dario Sabado'\n",
      " 'Ruta Hugo Lunes' 'Ruta Hugo Martes' 'Ruta Hugo Miercoles'\n",
      " 'Ruta Hugo Jueves' 'Ruta Hugo Viernes' 'Ruta Hugo Sabado'\n",
      " 'Ruta Martin Lunes' 'Ruta Martin Martes' 'Ruta Martin Miercoles'\n",
      " 'Ruta Martin Jueves' 'Ruta Martin Viernes' 'Ruta Martin Sabado'\n",
      " 'Ruta Alejandro Lunes' 'Ruta Alejandro Martes' 'Ruta Alejandro Miercoles'\n",
      " 'Ruta Alejandro Jueves' 'Ruta Alejandro Viernes' 'Ruta Alejandro Sabado'\n",
      " '🗞 Visitas periodicas Martin' '🗞 Visitas Periodicas Dario'\n",
      " '🗞 Visitas periodicas Alejandro' 'Clientes Especiales' '💲Creditos Hugo'\n",
      " '💲Creditos Martin' '💲Creditos Dario' '💲Creditos Alejandro'\n",
      " '💲Creditos Administracion']\n"
     ]
    }
   ],
   "source": [
    "valores_unicos = df_tareas['PROYECTO'].unique()\n",
    "\n",
    "# Imprimir los valores únicos\n",
    "print(valores_unicos)"
   ]
  },
  {
   "cell_type": "code",
   "execution_count": null,
   "metadata": {},
   "outputs": [],
   "source": []
  }
 ],
 "metadata": {
  "kernelspec": {
   "display_name": "Python 3",
   "language": "python",
   "name": "python3"
  },
  "language_info": {
   "codemirror_mode": {
    "name": "ipython",
    "version": 3
   },
   "file_extension": ".py",
   "mimetype": "text/x-python",
   "name": "python",
   "nbconvert_exporter": "python",
   "pygments_lexer": "ipython3",
   "version": "3.10.11"
  }
 },
 "nbformat": 4,
 "nbformat_minor": 4
}
