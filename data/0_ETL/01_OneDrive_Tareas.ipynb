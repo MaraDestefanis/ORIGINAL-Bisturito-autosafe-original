{
 "cells": [
  {
   "cell_type": "code",
   "execution_count": 1,
   "metadata": {},
   "outputs": [],
   "source": [
    "import re\n",
    "\n",
    "import numpy as np\n",
    "import pandas as pd\n",
    "\n",
    "import warnings\n",
    "warnings.filterwarnings('ignore')\n",
    "\n",
    "import unicodedata"
   ]
  },
  {
   "cell_type": "markdown",
   "metadata": {},
   "source": [
    "### Tareas.xlsx -> Tareas-limpio.xlsx(Proyectos)"
   ]
  },
  {
   "cell_type": "code",
   "execution_count": 2,
   "metadata": {},
   "outputs": [
    {
     "name": "stdout",
     "output_type": "stream",
     "text": [
      "\n",
      "=== INICIO DE LIMPIEZA DE TAREAS ===\n",
      "\n",
      "1. CARGANDO ARCHIVO DE TAREAS\n",
      "----------------------------\n",
      "✓ Archivo cargado exitosamente\n",
      "- Filas iniciales: 8288\n",
      "- Columnas iniciales: 15\n",
      "\n",
      "Columnas disponibles:\n",
      "- PROYECTO\n",
      "- TAREA\n",
      "- DESCRIPCION\n",
      "- SECCION\n",
      "- FECHA\n",
      "- PERIODICIDAD\n",
      "- ORDEN\n",
      "- RESPONSABLE\n",
      "- CODPROY\n",
      "- CODTAREA\n",
      "- ETIQUETA\n",
      "- CODIGO\n",
      "- TIPO\n",
      "- ORDEN.1\n",
      "- CODCLI2\n"
     ]
    }
   ],
   "source": [
    "print(\"\\n=== INICIO DE LIMPIEZA DE TAREAS ===\")\n",
    "\n",
    "# 1. Carga inicial\n",
    "print(\"\\n1. CARGANDO ARCHIVO DE TAREAS\")\n",
    "print(\"----------------------------\")\n",
    "try:\n",
    "    df_tareas = pd.read_excel('../Sucia/Tareas.xlsm', engine=\"openpyxl\")\n",
    "    print(\"✓ Archivo cargado exitosamente\")\n",
    "    print(f\"- Filas iniciales: {df_tareas.shape[0]}\")\n",
    "    print(f\"- Columnas iniciales: {df_tareas.shape[1]}\")\n",
    "    print(\"\\nColumnas disponibles:\")\n",
    "    for col in df_tareas.columns:\n",
    "        print(f\"- {col}\")\n",
    "except Exception as e:\n",
    "    print(f\"❌ Error al cargar archivo: {e}\")\n",
    "    raise\n",
    "\n"
   ]
  },
  {
   "cell_type": "code",
   "execution_count": 3,
   "metadata": {},
   "outputs": [
    {
     "name": "stdout",
     "output_type": "stream",
     "text": [
      "\n",
      "2. VERIFICACIÓN INICIAL DE NULOS\n",
      "------------------------------\n",
      "Nulos por columna:\n",
      "- CODIGO: 7002 nulos\n",
      "- PROYECTO: 6994 nulos\n"
     ]
    }
   ],
   "source": [
    "# 2. Verificación inicial de nulos\n",
    "print(\"\\n2. VERIFICACIÓN INICIAL DE NULOS\")\n",
    "print(\"------------------------------\")\n",
    "nulos_iniciales = df_tareas[['CODIGO', 'PROYECTO']].isnull().sum()\n",
    "print(\"Nulos por columna:\")\n",
    "for columna, cantidad in nulos_iniciales.items():\n",
    "  print(f\"- {columna}: {cantidad} nulos\")"
   ]
  },
  {
   "cell_type": "code",
   "execution_count": 4,
   "metadata": {},
   "outputs": [
    {
     "name": "stdout",
     "output_type": "stream",
     "text": [
      "\n",
      "3. LIMPIEZA DE CODIGO\n",
      "-------------------\n",
      "\n",
      "Registros con CODIGO inválido encontrados: 7002\n",
      "\n",
      "Tipos de problemas encontrados:\n",
      "PROBLEMA_CODIGO\n",
      "NaN o valor nulo    7002\n",
      "Name: count, dtype: int64\n",
      "\n",
      "Ejemplos de registros con problemas:\n",
      "      CODIGO                      PROYECTO   PROBLEMA_CODIGO\n",
      "762      NaN            Visitas Periodicas  NaN o valor nulo\n",
      "763      NaN    🗞️ Visitas periodicas Hugo  NaN o valor nulo\n",
      "839      NaN  🗞️ Visitas periodicas Martin  NaN o valor nulo\n",
      "901      NaN   🗞️ Visitas Periodicas Dario  NaN o valor nulo\n",
      "1125     NaN         Clientes Especiales 2  NaN o valor nulo\n",
      "1126     NaN                      Creditos  NaN o valor nulo\n",
      "1130     NaN                💲Creditos Hugo  NaN o valor nulo\n",
      "1230     NaN               💲Creditos Dario  NaN o valor nulo\n",
      "1294     NaN                           NaN  NaN o valor nulo\n",
      "1295     NaN                           NaN  NaN o valor nulo\n",
      "1296     NaN                           NaN  NaN o valor nulo\n",
      "1297     NaN                           NaN  NaN o valor nulo\n",
      "1298     NaN                           NaN  NaN o valor nulo\n",
      "1299     NaN                           NaN  NaN o valor nulo\n",
      "1300     NaN                           NaN  NaN o valor nulo\n",
      "1301     NaN                           NaN  NaN o valor nulo\n",
      "1302     NaN                           NaN  NaN o valor nulo\n",
      "1303     NaN                           NaN  NaN o valor nulo\n",
      "1304     NaN                           NaN  NaN o valor nulo\n",
      "1305     NaN                           NaN  NaN o valor nulo\n",
      "\n",
      "Procediendo con la limpieza...\n",
      "\n",
      "Resultados de limpieza:\n",
      "- Filas iniciales: 8288\n",
      "- Filas eliminadas: 7002\n",
      "- Filas finales: 1286\n",
      "Columnas seleccionadas: ['CODIGO', 'PROYECTO']\n"
     ]
    }
   ],
   "source": [
    "print(\"\\n3. LIMPIEZA DE CODIGO\")\n",
    "print(\"-------------------\")\n",
    "\n",
    "# Analizar y clasificar los problemas en CODIGO\n",
    "def analizar_codigo(codigo):\n",
    "    if pd.isnull(codigo):\n",
    "        return \"NaN o valor nulo\"\n",
    "    if not isinstance(codigo, (int, float, str)):\n",
    "        return f\"Tipo inválido: {type(codigo)}\"\n",
    "    codigo_str = str(codigo).replace('.', '')  # Eliminar puntos para evaluar si es numérico\n",
    "    if not codigo_str.isdigit():\n",
    "        return f\"Valor no numérico: {codigo}\"\n",
    "    return None\n",
    "\n",
    "# Agregar columna con problemas identificados\n",
    "df_tareas['PROBLEMA_CODIGO'] = df_tareas['CODIGO'].apply(analizar_codigo)\n",
    "\n",
    "# Filtrar registros con problemas\n",
    "df_tareas_invalidas = df_tareas[df_tareas['PROBLEMA_CODIGO'].notnull()]\n",
    "\n",
    "# Mostrar resumen de problemas\n",
    "print(f\"\\nRegistros con CODIGO inválido encontrados: {len(df_tareas_invalidas)}\")\n",
    "\n",
    "# Mostrar detalles específicos\n",
    "if not df_tareas_invalidas.empty:\n",
    "    print(\"\\nTipos de problemas encontrados:\")\n",
    "    print(df_tareas_invalidas['PROBLEMA_CODIGO'].value_counts())\n",
    "\n",
    "    print(\"\\nEjemplos de registros con problemas:\")\n",
    "    print(df_tareas_invalidas[['CODIGO', 'PROYECTO', 'PROBLEMA_CODIGO']].head(20))\n",
    "\n",
    "# Proceder con la limpieza una vez analizados los problemas\n",
    "print(\"\\nProcediendo con la limpieza...\")\n",
    "\n",
    "# Eliminar registros con problemas en CODIGO\n",
    "filas_iniciales = len(df_tareas)\n",
    "df_tareas['CODIGO'] = pd.to_numeric(df_tareas['CODIGO'], errors='coerce')\n",
    "df_tareas = df_tareas.dropna(subset=['CODIGO'])\n",
    "df_tareas['CODIGO'] = df_tareas['CODIGO'].astype(int)\n",
    "filas_finales = len(df_tareas)\n",
    "\n",
    "print(f\"\\nResultados de limpieza:\")\n",
    "print(f\"- Filas iniciales: {filas_iniciales}\")\n",
    "print(f\"- Filas eliminadas: {filas_iniciales - filas_finales}\")\n",
    "print(f\"- Filas finales: {filas_finales}\")\n",
    "\n",
    "# Seleccionar columnas finales\n",
    "df_tareas_filtrado = df_tareas[['CODIGO', 'PROYECTO']].copy()\n",
    "print(f\"Columnas seleccionadas: {list(df_tareas_filtrado.columns)}\")\n"
   ]
  },
  {
   "cell_type": "code",
   "execution_count": 5,
   "metadata": {},
   "outputs": [
    {
     "name": "stdout",
     "output_type": "stream",
     "text": [
      "\n",
      "4. LIMPIEZA DE PROYECTO\n",
      "---------------------\n",
      "✓ Acentos removidos de la columna PROYECTO\n"
     ]
    }
   ],
   "source": [
    "# 4. Limpieza de PROYECTO\n",
    "print(\"\\n4. LIMPIEZA DE PROYECTO\")\n",
    "print(\"---------------------\")\n",
    "# Función para limpiar texto\n",
    "def strip_accents(text):\n",
    "  if pd.isna(text):\n",
    "      return text\n",
    "  return ''.join(c for c in unicodedata.normalize('NFD', str(text))\n",
    "                if unicodedata.category(c) != 'Mn')\n",
    "\n",
    "# Aplicar limpieza a PROYECTO\n",
    "df_tareas['PROYECTO'] = df_tareas['PROYECTO'].apply(strip_accents)\n",
    "print(\"✓ Acentos removidos de la columna PROYECTO\")"
   ]
  },
  {
   "cell_type": "code",
   "execution_count": 6,
   "metadata": {},
   "outputs": [
    {
     "name": "stdout",
     "output_type": "stream",
     "text": [
      "\n",
      "5. SELECCIÓN DE COLUMNAS\n",
      "----------------------\n",
      "Columnas seleccionadas: CODIGO, PROYECTO\n"
     ]
    }
   ],
   "source": [
    "# 5. Selección final de columnas\n",
    "print(\"\\n5. SELECCIÓN DE COLUMNAS\")\n",
    "print(\"----------------------\")\n",
    "columnas_finales = ['CODIGO', 'PROYECTO']\n",
    "df_tareas = df_tareas[columnas_finales]\n",
    "print(f\"Columnas seleccionadas: {', '.join(columnas_finales)}\")\n"
   ]
  },
  {
   "cell_type": "code",
   "execution_count": 7,
   "metadata": {},
   "outputs": [
    {
     "name": "stdout",
     "output_type": "stream",
     "text": [
      "\n",
      "6. GUARDANDO ARCHIVO LIMPIO\n",
      "-------------------------\n",
      "✓ Archivo guardado exitosamente en '../Limpia/Tareas-limpio.xlsx'\n",
      "\n",
      "Estado final del DataFrame:\n",
      "- Filas: 1286\n",
      "- Columnas: 2\n",
      "\n",
      "Muestra de datos limpios:\n",
      "      CODIGO                    PROYECTO\n",
      "171    81233          Ruta Dario Viernes\n",
      "1023   12500         Clientes Especiales\n",
      "1192   41846            💲Creditos Martin\n",
      "642    80261    Ruta Alejandro Miercoles\n",
      "899    80266  🗞 Visitas Periodicas Dario\n",
      "\n",
      "Verificación final de nulos:\n",
      "- CODIGO: 0 nulos\n",
      "- PROYECTO: 0 nulos\n",
      "\n",
      "=== FIN DE LIMPIEZA DE TAREAS ===\n"
     ]
    }
   ],
   "source": [
    "# 6. Guardado de archivo\n",
    "print(\"\\n6. GUARDANDO ARCHIVO LIMPIO\")\n",
    "print(\"-------------------------\")\n",
    "try:\n",
    "  df_tareas.to_excel(\"../Limpia/Tareas-limpio.xlsx\", index=False)\n",
    "  print(\"✓ Archivo guardado exitosamente en '../Limpia/Tareas-limpio.xlsx'\")\n",
    "  \n",
    "  # Verificación final\n",
    "  print(\"\\nEstado final del DataFrame:\")\n",
    "  print(f\"- Filas: {df_tareas.shape[0]}\")\n",
    "  print(f\"- Columnas: {df_tareas.shape[1]}\")\n",
    "  print(\"\\nMuestra de datos limpios:\")\n",
    "  print(df_tareas.sample(min(5, len(df_tareas))))\n",
    "  \n",
    "  print(\"\\nVerificación final de nulos:\")\n",
    "  nulos_finales = df_tareas.isnull().sum()\n",
    "  for columna, cantidad in nulos_finales.items():\n",
    "      print(f\"- {columna}: {cantidad} nulos\")\n",
    "except Exception as e:\n",
    "  print(f\"❌ Error al guardar archivo: {e}\")\n",
    "\n",
    "print(\"\\n=== FIN DE LIMPIEZA DE TAREAS ===\")"
   ]
  },
  {
   "cell_type": "code",
   "execution_count": 8,
   "metadata": {},
   "outputs": [
    {
     "name": "stdout",
     "output_type": "stream",
     "text": [
      "<class 'pandas.core.frame.DataFrame'>\n",
      "Index: 1286 entries, 0 to 1293\n",
      "Data columns (total 2 columns):\n",
      " #   Column    Non-Null Count  Dtype \n",
      "---  ------    --------------  ----- \n",
      " 0   CODIGO    1286 non-null   int64 \n",
      " 1   PROYECTO  1286 non-null   object\n",
      "dtypes: int64(1), object(1)\n",
      "memory usage: 30.1+ KB\n"
     ]
    }
   ],
   "source": [
    "df_tareas.info()"
   ]
  },
  {
   "cell_type": "code",
   "execution_count": 9,
   "metadata": {},
   "outputs": [
    {
     "name": "stdout",
     "output_type": "stream",
     "text": [
      "['Ruta Dario Lunes' 'Ruta Dario Martes' 'Ruta Dario Miercoles'\n",
      " 'Ruta Dario Jueves' 'Ruta Dario Viernes' 'Ruta Dario Sabado'\n",
      " 'Ruta Hugo Lunes' 'Ruta Hugo Martes' 'Ruta Hugo Miercoles'\n",
      " 'Ruta Hugo Jueves' 'Ruta Hugo Viernes' 'Ruta Hugo Sabado'\n",
      " 'Ruta Martin Lunes' 'Ruta Martin Martes' 'Ruta Martin Miercoles'\n",
      " 'Ruta Martin Jueves' 'Ruta Martin Viernes' 'Ruta Martin Sabado'\n",
      " 'Ruta Alejandro Lunes' 'Ruta Alejandro Martes' 'Ruta Alejandro Miercoles'\n",
      " 'Ruta Alejandro Jueves' 'Ruta Alejandro Viernes' 'Ruta Alejandro Sabado'\n",
      " '🗞 Visitas periodicas Martin' '🗞 Visitas Periodicas Dario'\n",
      " '🗞 Visitas periodicas Alejandro' 'Clientes Especiales' '💲Creditos Hugo'\n",
      " '💲Creditos Martin' '💲Creditos Dario' '💲Creditos Alejandro'\n",
      " '💲Creditos Administracion']\n"
     ]
    }
   ],
   "source": [
    "valores_unicos = df_tareas['PROYECTO'].unique()\n",
    "\n",
    "# Imprimir los valores únicos\n",
    "print(valores_unicos)"
   ]
  }
 ],
 "metadata": {
  "kernelspec": {
   "display_name": ".venv",
   "language": "python",
   "name": "python3"
  },
  "language_info": {
   "codemirror_mode": {
    "name": "ipython",
    "version": 3
   },
   "file_extension": ".py",
   "mimetype": "text/x-python",
   "name": "python",
   "nbconvert_exporter": "python",
   "pygments_lexer": "ipython3",
   "version": "3.13.1"
  }
 },
 "nbformat": 4,
 "nbformat_minor": 2
}
